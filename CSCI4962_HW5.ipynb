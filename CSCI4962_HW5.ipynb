{
  "nbformat": 4,
  "nbformat_minor": 0,
  "metadata": {
    "colab": {
      "name": "CSCI4962_HW5.ipynb",
      "provenance": [],
      "collapsed_sections": [],
      "mount_file_id": "140VHP3ZGtpXHj4IMtF7qqDNBOxuXgJx7",
      "authorship_tag": "ABX9TyOaJc1W3+px2BMoXU/Etetl",
      "include_colab_link": true
    },
    "kernelspec": {
      "name": "python3",
      "display_name": "Python 3"
    },
    "language_info": {
      "name": "python"
    },
    "accelerator": "GPU"
  },
  "cells": [
    {
      "cell_type": "markdown",
      "metadata": {
        "id": "view-in-github",
        "colab_type": "text"
      },
      "source": [
        "<a href=\"https://colab.research.google.com/github/Alonment/CSCI4962-Projects-In-ML-AI/blob/main/CSCI4962_HW5.ipynb\" target=\"_parent\"><img src=\"https://colab.research.google.com/assets/colab-badge.svg\" alt=\"Open In Colab\"/></a>"
      ]
    },
    {
      "cell_type": "markdown",
      "metadata": {
        "id": "Y9pd0QHwL3yL"
      },
      "source": [
        "**Homework 5**\n",
        "\n",
        "**CNNs, AEs, GANs**\n",
        "\n",
        "In your project, you will pick an image dataset to solve a classification task. Provide a link to your dataset.\n",
        "\n",
        "Problem: Classifying pokemon by type. (Since it is a childhood classic after all.)\n",
        "\n",
        "Data set: https://www.kaggle.com/vishalsubbiah/pokemon-images-and-types?select=pokemon.csv"
      ]
    },
    {
      "cell_type": "markdown",
      "metadata": {
        "id": "VygezJjSPVe-"
      },
      "source": [
        "**Task 1 (70 points):**\n",
        "\n",
        "**Part 1 (20 points):** This step involves downloading, preparing, and visualizing your dataset. Create a convulutional base using a common pattern: a stack of Conv and MaxPooling layers. Depending on the problem and the dataset you must decide what pattern you want to use (i.e., how many Conv layers and how many pooling layers). Please describe why you chose a particular pattern. Add the final dense layer(s). Compile and train the model. Report the final evaluation and describe the metrics.\n",
        "\n",
        "**Part 2 (25 points):** The following models are widely used for transfer learning because of their performance and architectural innovations:\n",
        "\n",
        "\n",
        "1.   VGG (e.g., VGG16 or VGG19).\n",
        "2.   GoogleNet (e.g., InceptionV3).\n",
        "3.   Residual Network (e.g., ResNet50).\n",
        "4.   MobileNet (e.g., MobileNetV2).\n",
        "\n",
        "Choose any **one** of the above models to perform the classification task in Part 1. Evaluate the results using the same metrics as in Part 1. Are there any differences? Why or why not?\n",
        "\n",
        "**Part 3 (25 points):** Use data augmentation to increase the diversity of your dataset by applying random transformations such as image rotation (you can use any other technique as well). Repeat the process from part 1 with this augmented data. Did you observe any difference in results?\n",
        "\n"
      ]
    },
    {
      "cell_type": "markdown",
      "metadata": {
        "id": "At2BohiGE_wD"
      },
      "source": [
        "**Part 1:** The Convulutional Neural Network"
      ]
    },
    {
      "cell_type": "code",
      "metadata": {
        "id": "aoqS5WOISJsz"
      },
      "source": [
        "import numpy as np\n",
        "import pandas as pd\n",
        "import tensorflow as tf\n",
        "import matplotlib.pyplot as plt\n",
        "import matplotlib.image as mpimg\n",
        "\n",
        "BATCH_SIZE = 32\n",
        "IMG_SIZE = (256, 256)\n",
        "DRIVE_PATH = \"drive/MyDrive/csci4962_hw5/\"\n",
        "# Loading our dataset\n",
        "df = pd.read_csv(f\"{DRIVE_PATH}pokemon.csv\", encoding=\"UTF-8\")\n"
      ],
      "execution_count": 231,
      "outputs": []
    },
    {
      "cell_type": "markdown",
      "metadata": {
        "id": "BzQTUgr3ff9o"
      },
      "source": [
        "**Exploratory Data Analysis**"
      ]
    },
    {
      "cell_type": "code",
      "metadata": {
        "id": "GACFZok1fi49",
        "colab": {
          "base_uri": "https://localhost:8080/",
          "height": 204
        },
        "outputId": "ef6ce988-27cd-466d-9fc5-2062ace3a4e3"
      },
      "source": [
        "df.head()"
      ],
      "execution_count": 232,
      "outputs": [
        {
          "output_type": "execute_result",
          "data": {
            "text/html": [
              "<div>\n",
              "<style scoped>\n",
              "    .dataframe tbody tr th:only-of-type {\n",
              "        vertical-align: middle;\n",
              "    }\n",
              "\n",
              "    .dataframe tbody tr th {\n",
              "        vertical-align: top;\n",
              "    }\n",
              "\n",
              "    .dataframe thead th {\n",
              "        text-align: right;\n",
              "    }\n",
              "</style>\n",
              "<table border=\"1\" class=\"dataframe\">\n",
              "  <thead>\n",
              "    <tr style=\"text-align: right;\">\n",
              "      <th></th>\n",
              "      <th>Name</th>\n",
              "      <th>Type1</th>\n",
              "      <th>Type2</th>\n",
              "    </tr>\n",
              "  </thead>\n",
              "  <tbody>\n",
              "    <tr>\n",
              "      <th>0</th>\n",
              "      <td>bulbasaur</td>\n",
              "      <td>Grass</td>\n",
              "      <td>Poison</td>\n",
              "    </tr>\n",
              "    <tr>\n",
              "      <th>1</th>\n",
              "      <td>ivysaur</td>\n",
              "      <td>Grass</td>\n",
              "      <td>Poison</td>\n",
              "    </tr>\n",
              "    <tr>\n",
              "      <th>2</th>\n",
              "      <td>venusaur</td>\n",
              "      <td>Grass</td>\n",
              "      <td>Poison</td>\n",
              "    </tr>\n",
              "    <tr>\n",
              "      <th>3</th>\n",
              "      <td>charmander</td>\n",
              "      <td>Fire</td>\n",
              "      <td>NaN</td>\n",
              "    </tr>\n",
              "    <tr>\n",
              "      <th>4</th>\n",
              "      <td>charmeleon</td>\n",
              "      <td>Fire</td>\n",
              "      <td>NaN</td>\n",
              "    </tr>\n",
              "  </tbody>\n",
              "</table>\n",
              "</div>"
            ],
            "text/plain": [
              "         Name  Type1   Type2\n",
              "0   bulbasaur  Grass  Poison\n",
              "1     ivysaur  Grass  Poison\n",
              "2    venusaur  Grass  Poison\n",
              "3  charmander   Fire     NaN\n",
              "4  charmeleon   Fire     NaN"
            ]
          },
          "metadata": {},
          "execution_count": 232
        }
      ]
    },
    {
      "cell_type": "code",
      "metadata": {
        "colab": {
          "base_uri": "https://localhost:8080/"
        },
        "id": "JBWTIVLrgJvs",
        "outputId": "ea54852d-6a1d-4df0-eb76-c66a28042a14"
      },
      "source": [
        "df.shape"
      ],
      "execution_count": 233,
      "outputs": [
        {
          "output_type": "execute_result",
          "data": {
            "text/plain": [
              "(809, 3)"
            ]
          },
          "metadata": {},
          "execution_count": 233
        }
      ]
    },
    {
      "cell_type": "markdown",
      "metadata": {
        "id": "1vbdO6DR9ooX"
      },
      "source": [
        "Let's drop the Type2 column due to the fact that they don't necessarily exist nor are they the main type of the pokemon; it also serves no purpose in classification based on type."
      ]
    },
    {
      "cell_type": "code",
      "metadata": {
        "colab": {
          "base_uri": "https://localhost:8080/",
          "height": 204
        },
        "id": "E0aazNPP-Pz4",
        "outputId": "79496bed-1b0a-480e-adc9-0b4ffd355e77"
      },
      "source": [
        "df = df.drop(\"Type2\", axis=1).rename({\"Type1\": \"Type\"}, axis=1).sort_values(\"Name\")\n",
        "df.head()"
      ],
      "execution_count": 234,
      "outputs": [
        {
          "output_type": "execute_result",
          "data": {
            "text/html": [
              "<div>\n",
              "<style scoped>\n",
              "    .dataframe tbody tr th:only-of-type {\n",
              "        vertical-align: middle;\n",
              "    }\n",
              "\n",
              "    .dataframe tbody tr th {\n",
              "        vertical-align: top;\n",
              "    }\n",
              "\n",
              "    .dataframe thead th {\n",
              "        text-align: right;\n",
              "    }\n",
              "</style>\n",
              "<table border=\"1\" class=\"dataframe\">\n",
              "  <thead>\n",
              "    <tr style=\"text-align: right;\">\n",
              "      <th></th>\n",
              "      <th>Name</th>\n",
              "      <th>Type</th>\n",
              "    </tr>\n",
              "  </thead>\n",
              "  <tbody>\n",
              "    <tr>\n",
              "      <th>459</th>\n",
              "      <td>abomasnow</td>\n",
              "      <td>Grass</td>\n",
              "    </tr>\n",
              "    <tr>\n",
              "      <th>62</th>\n",
              "      <td>abra</td>\n",
              "      <td>Psychic</td>\n",
              "    </tr>\n",
              "    <tr>\n",
              "      <th>358</th>\n",
              "      <td>absol</td>\n",
              "      <td>Dark</td>\n",
              "    </tr>\n",
              "    <tr>\n",
              "      <th>616</th>\n",
              "      <td>accelgor</td>\n",
              "      <td>Bug</td>\n",
              "    </tr>\n",
              "    <tr>\n",
              "      <th>680</th>\n",
              "      <td>aegislash-blade</td>\n",
              "      <td>Steel</td>\n",
              "    </tr>\n",
              "  </tbody>\n",
              "</table>\n",
              "</div>"
            ],
            "text/plain": [
              "                Name     Type\n",
              "459        abomasnow    Grass\n",
              "62              abra  Psychic\n",
              "358            absol     Dark\n",
              "616         accelgor      Bug\n",
              "680  aegislash-blade    Steel"
            ]
          },
          "metadata": {},
          "execution_count": 234
        }
      ]
    },
    {
      "cell_type": "code",
      "metadata": {
        "colab": {
          "base_uri": "https://localhost:8080/"
        },
        "id": "vuuKrHKv_J9F",
        "outputId": "726484a8-a9ec-4bd4-aa46-26d71983cfd1"
      },
      "source": [
        "df.value_counts(\"Type\")"
      ],
      "execution_count": 235,
      "outputs": [
        {
          "output_type": "execute_result",
          "data": {
            "text/plain": [
              "Type\n",
              "Water       114\n",
              "Normal      105\n",
              "Grass        78\n",
              "Bug          72\n",
              "Psychic      53\n",
              "Fire         53\n",
              "Rock         46\n",
              "Electric     40\n",
              "Poison       34\n",
              "Ground       32\n",
              "Fighting     29\n",
              "Dark         29\n",
              "Dragon       27\n",
              "Ghost        27\n",
              "Steel        26\n",
              "Ice          23\n",
              "Fairy        18\n",
              "Flying        3\n",
              "dtype: int64"
            ]
          },
          "metadata": {},
          "execution_count": 235
        }
      ]
    },
    {
      "cell_type": "markdown",
      "metadata": {
        "id": "h-OHtTPc73bv"
      },
      "source": [
        "Seeing how the potential imbalance with these classes could bring about unwanted noise, let's reduce the problem to classifying pokemon into one of 4 categories: Water, Normal, Grass, or Bug type."
      ]
    },
    {
      "cell_type": "code",
      "metadata": {
        "colab": {
          "base_uri": "https://localhost:8080/"
        },
        "id": "Hy8ArgBo9ghc",
        "outputId": "a02a311f-6140-450f-e5c8-77651e28ca22"
      },
      "source": [
        "classes = [\"Water\", \"Normal\", \"Grass\", \"Bug\"]\n",
        "df = df[df[\"Type\"].isin(classes)]\n",
        "df.value_counts(\"Type\")"
      ],
      "execution_count": 236,
      "outputs": [
        {
          "output_type": "execute_result",
          "data": {
            "text/plain": [
              "Type\n",
              "Water     114\n",
              "Normal    105\n",
              "Grass      78\n",
              "Bug        72\n",
              "dtype: int64"
            ]
          },
          "metadata": {},
          "execution_count": 236
        }
      ]
    },
    {
      "cell_type": "markdown",
      "metadata": {
        "id": "CRESn1V6_lSX"
      },
      "source": [
        "Now, let us connect the images from the directory with the pokemon that we have left."
      ]
    },
    {
      "cell_type": "code",
      "metadata": {
        "id": "Yl4ufPBKDnYi"
      },
      "source": [
        "from pathlib import Path\n",
        "\n",
        "# Retrieve the list of filenames from the directory and store each pokemon type in their respective folders\n",
        "files = list(Path(DRIVE_PATH + 'images/images').glob(\"*\"))\n",
        "file_to_name = {file.name[:-4]: file for file in files}\n"
      ],
      "execution_count": 237,
      "outputs": []
    },
    {
      "cell_type": "code",
      "metadata": {
        "id": "HmGXckUL3pV7"
      },
      "source": [
        "!mkdir -p pokemon"
      ],
      "execution_count": 238,
      "outputs": []
    },
    {
      "cell_type": "code",
      "metadata": {
        "colab": {
          "base_uri": "https://localhost:8080/",
          "height": 350
        },
        "id": "ED3mn2vn3prc",
        "outputId": "2de7804c-283d-45f4-d45a-1eac3f75d485"
      },
      "source": [
        "import os\n",
        "import shutil\n",
        "\n",
        "# Resorted to making new directories because of difficulties creating an image dataset\n",
        "for c in classes:\n",
        "  dir = f'./pokemon/{c}'\n",
        "  os.makedirs(dir, exist_ok=True)\n",
        "  files = [file_to_name[name] for name in df[df['Type'] == c]['Name']]\n",
        "\n",
        "  for file in files:\n",
        "    output = Path(f'{dir}/{file.name}')\n",
        "    shutil.move(file, output)\n"
      ],
      "execution_count": 239,
      "outputs": [
        {
          "output_type": "error",
          "ename": "KeyError",
          "evalue": "ignored",
          "traceback": [
            "\u001b[0;31m---------------------------------------------------------------------------\u001b[0m",
            "\u001b[0;31mKeyError\u001b[0m                                  Traceback (most recent call last)",
            "\u001b[0;32m<ipython-input-239-af9bf274b803>\u001b[0m in \u001b[0;36m<module>\u001b[0;34m()\u001b[0m\n\u001b[1;32m      6\u001b[0m   \u001b[0mdir\u001b[0m \u001b[0;34m=\u001b[0m \u001b[0;34mf'./pokemon/{c}'\u001b[0m\u001b[0;34m\u001b[0m\u001b[0;34m\u001b[0m\u001b[0m\n\u001b[1;32m      7\u001b[0m   \u001b[0mos\u001b[0m\u001b[0;34m.\u001b[0m\u001b[0mmakedirs\u001b[0m\u001b[0;34m(\u001b[0m\u001b[0mdir\u001b[0m\u001b[0;34m,\u001b[0m \u001b[0mexist_ok\u001b[0m\u001b[0;34m=\u001b[0m\u001b[0;32mTrue\u001b[0m\u001b[0;34m)\u001b[0m\u001b[0;34m\u001b[0m\u001b[0;34m\u001b[0m\u001b[0m\n\u001b[0;32m----> 8\u001b[0;31m   \u001b[0mfiles\u001b[0m \u001b[0;34m=\u001b[0m \u001b[0;34m[\u001b[0m\u001b[0mfile_to_name\u001b[0m\u001b[0;34m[\u001b[0m\u001b[0mname\u001b[0m\u001b[0;34m]\u001b[0m \u001b[0;32mfor\u001b[0m \u001b[0mname\u001b[0m \u001b[0;32min\u001b[0m \u001b[0mdf\u001b[0m\u001b[0;34m[\u001b[0m\u001b[0mdf\u001b[0m\u001b[0;34m[\u001b[0m\u001b[0;34m'Type'\u001b[0m\u001b[0;34m]\u001b[0m \u001b[0;34m==\u001b[0m \u001b[0mc\u001b[0m\u001b[0;34m]\u001b[0m\u001b[0;34m[\u001b[0m\u001b[0;34m'Name'\u001b[0m\u001b[0;34m]\u001b[0m\u001b[0;34m]\u001b[0m\u001b[0;34m\u001b[0m\u001b[0;34m\u001b[0m\u001b[0m\n\u001b[0m\u001b[1;32m      9\u001b[0m \u001b[0;34m\u001b[0m\u001b[0m\n\u001b[1;32m     10\u001b[0m   \u001b[0;32mfor\u001b[0m \u001b[0mfile\u001b[0m \u001b[0;32min\u001b[0m \u001b[0mfiles\u001b[0m\u001b[0;34m:\u001b[0m\u001b[0;34m\u001b[0m\u001b[0;34m\u001b[0m\u001b[0m\n",
            "\u001b[0;32m<ipython-input-239-af9bf274b803>\u001b[0m in \u001b[0;36m<listcomp>\u001b[0;34m(.0)\u001b[0m\n\u001b[1;32m      6\u001b[0m   \u001b[0mdir\u001b[0m \u001b[0;34m=\u001b[0m \u001b[0;34mf'./pokemon/{c}'\u001b[0m\u001b[0;34m\u001b[0m\u001b[0;34m\u001b[0m\u001b[0m\n\u001b[1;32m      7\u001b[0m   \u001b[0mos\u001b[0m\u001b[0;34m.\u001b[0m\u001b[0mmakedirs\u001b[0m\u001b[0;34m(\u001b[0m\u001b[0mdir\u001b[0m\u001b[0;34m,\u001b[0m \u001b[0mexist_ok\u001b[0m\u001b[0;34m=\u001b[0m\u001b[0;32mTrue\u001b[0m\u001b[0;34m)\u001b[0m\u001b[0;34m\u001b[0m\u001b[0;34m\u001b[0m\u001b[0m\n\u001b[0;32m----> 8\u001b[0;31m   \u001b[0mfiles\u001b[0m \u001b[0;34m=\u001b[0m \u001b[0;34m[\u001b[0m\u001b[0mfile_to_name\u001b[0m\u001b[0;34m[\u001b[0m\u001b[0mname\u001b[0m\u001b[0;34m]\u001b[0m \u001b[0;32mfor\u001b[0m \u001b[0mname\u001b[0m \u001b[0;32min\u001b[0m \u001b[0mdf\u001b[0m\u001b[0;34m[\u001b[0m\u001b[0mdf\u001b[0m\u001b[0;34m[\u001b[0m\u001b[0;34m'Type'\u001b[0m\u001b[0;34m]\u001b[0m \u001b[0;34m==\u001b[0m \u001b[0mc\u001b[0m\u001b[0;34m]\u001b[0m\u001b[0;34m[\u001b[0m\u001b[0;34m'Name'\u001b[0m\u001b[0;34m]\u001b[0m\u001b[0;34m]\u001b[0m\u001b[0;34m\u001b[0m\u001b[0;34m\u001b[0m\u001b[0m\n\u001b[0m\u001b[1;32m      9\u001b[0m \u001b[0;34m\u001b[0m\u001b[0m\n\u001b[1;32m     10\u001b[0m   \u001b[0;32mfor\u001b[0m \u001b[0mfile\u001b[0m \u001b[0;32min\u001b[0m \u001b[0mfiles\u001b[0m\u001b[0;34m:\u001b[0m\u001b[0;34m\u001b[0m\u001b[0;34m\u001b[0m\u001b[0m\n",
            "\u001b[0;31mKeyError\u001b[0m: 'alomomola'"
          ]
        }
      ]
    },
    {
      "cell_type": "markdown",
      "metadata": {
        "id": "KPZHxgi5GVPe"
      },
      "source": [
        "It's about time we checked out the data we're working with. Let's begin generating our training, validation, and test sets as well as view the first 16 pokemon in our training set."
      ]
    },
    {
      "cell_type": "code",
      "metadata": {
        "colab": {
          "base_uri": "https://localhost:8080/"
        },
        "id": "i7Bf4jkFlrnA",
        "outputId": "d1b29b5d-f9b7-4fbb-b4c4-610bdec06308"
      },
      "source": [
        "dataPath = Path('/content/pokemon')\n",
        "\n",
        "train_ds = tf.keras.utils.image_dataset_from_directory(\n",
        "    dataPath,\n",
        "    validation_split=0.25,\n",
        "    label_mode='categorical',\n",
        "    class_names=classes,\n",
        "    image_size=IMG_SIZE,\n",
        "    batch_size=BATCH_SIZE,\n",
        "    seed=0,\n",
        "    subset=\"training\"\n",
        "  )"
      ],
      "execution_count": 240,
      "outputs": [
        {
          "output_type": "stream",
          "name": "stdout",
          "text": [
            "Found 369 files belonging to 4 classes.\n",
            "Using 277 files for training.\n"
          ]
        }
      ]
    },
    {
      "cell_type": "code",
      "metadata": {
        "colab": {
          "base_uri": "https://localhost:8080/"
        },
        "id": "TGciTfHm6Qbg",
        "outputId": "473675db-07f9-4f86-c581-d72da8af1ef4"
      },
      "source": [
        "val_ds = tf.keras.utils.image_dataset_from_directory(\n",
        "    dataPath,\n",
        "    validation_split=0.2,\n",
        "    label_mode='categorical',\n",
        "    class_names=classes,\n",
        "    image_size=IMG_SIZE,\n",
        "    batch_size=BATCH_SIZE,\n",
        "    seed=0,\n",
        "    subset=\"validation\"\n",
        "  )\n",
        "\n",
        "test_ds = val_ds.take(1)\n",
        "val_ds = val_ds.skip(1)"
      ],
      "execution_count": 241,
      "outputs": [
        {
          "output_type": "stream",
          "name": "stdout",
          "text": [
            "Found 369 files belonging to 4 classes.\n",
            "Using 73 files for validation.\n"
          ]
        }
      ]
    },
    {
      "cell_type": "code",
      "metadata": {
        "id": "i5pN9ZYUGZ83",
        "colab": {
          "base_uri": "https://localhost:8080/",
          "height": 591
        },
        "outputId": "3cf0d06f-aa93-45f2-c5a7-f81ca50160af"
      },
      "source": [
        "# Display images\n",
        "\n",
        "plt.figure(figsize=(10, 10))\n",
        "for images, labels in train_ds.take(1):\n",
        "  for i in range(16):\n",
        "    ax = plt.subplot(4, 4, i + 1)\n",
        "    plt.imshow(images[i].numpy().astype(\"uint8\"))\n",
        "    plt.title(classes[np.argmax(labels[i])])\n",
        "    plt.axis(\"off\")"
      ],
      "execution_count": 242,
      "outputs": [
        {
          "output_type": "display_data",
          "data": {
            "image/png": "[encoded data removed]",
            "text/plain": [
              "<Figure size 720x720 with 16 Axes>"
            ]
          },
          "metadata": {
            "needs_background": "light"
          }
        }
      ]
    },
    {
      "cell_type": "markdown",
      "metadata": {
        "id": "X24a1sPoJpsZ"
      },
      "source": [
        "By the look's of it, there is a lot of variation in pokemon of different type as well as on shape. However, it's clear that pokemon of the same type tend to follow the same color pattern, that being, water pokemon typically having the color blue, normal pokemon having colors not necesarilly associated with any element, and grass types having some form of green. Granted, these color patterns aren't exact/pokemon need not follow them (as is the case with the green fish that's a water type). Furthermore, there also appears to be some physical similarities between pokemon of certain types (i.e. water pokemon looking fishlike, bug pokemon looking like bugs..)."
      ]
    },
    {
      "cell_type": "markdown",
      "metadata": {
        "id": "oQeRwRqJMXhf"
      },
      "source": [
        "Now, it is time to create our test set and our model.\n",
        "\n"
      ]
    },
    {
      "cell_type": "code",
      "metadata": {
        "id": "sT7wRGDRchQv",
        "colab": {
          "base_uri": "https://localhost:8080/"
        },
        "outputId": "efa83ff6-a4b0-4e7b-bab2-130d73362662"
      },
      "source": [
        "model = tf.keras.Sequential([\n",
        "                             \n",
        "  # Preprocessing Input layer\n",
        "  tf.keras.layers.Resizing(256, 256, input_shape=(IMG_SIZE[0], IMG_SIZE[1], 3)),\n",
        "  \n",
        "  # Convulutional and Pooling Layers\n",
        "  tf.keras.layers.Conv2D(filters = 64, kernel_size = (7, 7), activation='relu'),\n",
        "  tf.keras.layers.MaxPooling2D((2, 2)),\n",
        "  tf.keras.layers.Dropout(0.2),\n",
        "\n",
        "  tf.keras.layers.Conv2D(filters = 128, kernel_size = (7, 7), activation='relu'),\n",
        "  tf.keras.layers.MaxPooling2D((2, 2)),\n",
        "  tf.keras.layers.Dropout(0.2),\n",
        "\n",
        "  tf.keras.layers.Conv2D(filters = 256, kernel_size = (7, 7), activation='relu'),\n",
        "  tf.keras.layers.MaxPooling2D((2, 2)),\n",
        "  tf.keras.layers.Dropout(0.2),\n",
        "\n",
        "  # Final Dense Layers\n",
        "  tf.keras.layers.Flatten(),\n",
        "  tf.keras.layers.Dense(512, activation='relu'),\n",
        "  tf.keras.layers.Dense(256, activation='relu'),\n",
        "  tf.keras.layers.Dense(128, activation='relu'),\n",
        "  tf.keras.layers.Dropout(0.5),\n",
        "  tf.keras.layers.Dense(4)\n",
        "])\n",
        "\n",
        "model.summary()"
      ],
      "execution_count": 243,
      "outputs": [
        {
          "output_type": "stream",
          "name": "stdout",
          "text": [
            "Model: \"sequential_27\"\n",
            "_________________________________________________________________\n",
            "Layer (type)                 Output Shape              Param #   \n",
            "=================================================================\n",
            "resizing_24 (Resizing)       (None, 256, 256, 3)       0         \n",
            "_________________________________________________________________\n",
            "conv2d_301 (Conv2D)          (None, 250, 250, 64)      9472      \n",
            "_________________________________________________________________\n",
            "max_pooling2d_120 (MaxPoolin (None, 125, 125, 64)      0         \n",
            "_________________________________________________________________\n",
            "dropout_67 (Dropout)         (None, 125, 125, 64)      0         \n",
            "_________________________________________________________________\n",
            "conv2d_302 (Conv2D)          (None, 119, 119, 128)     401536    \n",
            "_________________________________________________________________\n",
            "max_pooling2d_121 (MaxPoolin (None, 59, 59, 128)       0         \n",
            "_________________________________________________________________\n",
            "dropout_68 (Dropout)         (None, 59, 59, 128)       0         \n",
            "_________________________________________________________________\n",
            "conv2d_303 (Conv2D)          (None, 53, 53, 256)       1605888   \n",
            "_________________________________________________________________\n",
            "max_pooling2d_122 (MaxPoolin (None, 26, 26, 256)       0         \n",
            "_________________________________________________________________\n",
            "dropout_69 (Dropout)         (None, 26, 26, 256)       0         \n",
            "_________________________________________________________________\n",
            "flatten_36 (Flatten)         (None, 173056)            0         \n",
            "_________________________________________________________________\n",
            "dense_119 (Dense)            (None, 512)               88605184  \n",
            "_________________________________________________________________\n",
            "dense_120 (Dense)            (None, 256)               131328    \n",
            "_________________________________________________________________\n",
            "dense_121 (Dense)            (None, 128)               32896     \n",
            "_________________________________________________________________\n",
            "dropout_70 (Dropout)         (None, 128)               0         \n",
            "_________________________________________________________________\n",
            "dense_122 (Dense)            (None, 4)                 516       \n",
            "=================================================================\n",
            "Total params: 90,786,820\n",
            "Trainable params: 90,786,820\n",
            "Non-trainable params: 0\n",
            "_________________________________________________________________\n"
          ]
        }
      ]
    },
    {
      "cell_type": "code",
      "metadata": {
        "id": "anE-rEiV-weG"
      },
      "source": [
        "model.compile(optimizer='adam',\n",
        "              loss=tf.keras.losses.CategoricalCrossentropy(from_logits=True),\n",
        "              metrics=['accuracy'])"
      ],
      "execution_count": 244,
      "outputs": []
    },
    {
      "cell_type": "code",
      "metadata": {
        "id": "0VUDD-f7c6N_",
        "colab": {
          "base_uri": "https://localhost:8080/"
        },
        "outputId": "bbfbc9b4-ee1c-4a5e-e318-7a685a9af371"
      },
      "source": [
        "EPOCHS=8\n",
        "history = model.fit(\n",
        "            train_ds,\n",
        "            validation_data=val_ds,\n",
        "            epochs=20\n",
        "          )"
      ],
      "execution_count": 255,
      "outputs": [
        {
          "output_type": "stream",
          "name": "stdout",
          "text": [
            "Epoch 1/20\n",
            "9/9 [==============================] - 5s 500ms/step - loss: 0.4431 - accuracy: 0.8267 - val_loss: 1.9989 - val_accuracy: 0.3902\n",
            "Epoch 2/20\n",
            "9/9 [==============================] - 5s 502ms/step - loss: 0.3612 - accuracy: 0.8448 - val_loss: 2.1584 - val_accuracy: 0.2927\n",
            "Epoch 3/20\n",
            "9/9 [==============================] - 5s 497ms/step - loss: 0.2865 - accuracy: 0.8809 - val_loss: 2.5631 - val_accuracy: 0.3902\n",
            "Epoch 4/20\n",
            "9/9 [==============================] - 5s 501ms/step - loss: 0.2377 - accuracy: 0.9025 - val_loss: 3.3261 - val_accuracy: 0.3171\n",
            "Epoch 5/20\n",
            "9/9 [==============================] - 5s 501ms/step - loss: 0.2042 - accuracy: 0.9134 - val_loss: 3.4667 - val_accuracy: 0.1707\n",
            "Epoch 6/20\n",
            "9/9 [==============================] - 5s 500ms/step - loss: 0.2693 - accuracy: 0.8736 - val_loss: 3.0529 - val_accuracy: 0.2927\n",
            "Epoch 7/20\n",
            "9/9 [==============================] - 5s 501ms/step - loss: 0.2101 - accuracy: 0.9061 - val_loss: 3.1649 - val_accuracy: 0.3902\n",
            "Epoch 8/20\n",
            "9/9 [==============================] - 5s 500ms/step - loss: 0.1928 - accuracy: 0.9170 - val_loss: 3.7601 - val_accuracy: 0.3171\n",
            "Epoch 9/20\n",
            "9/9 [==============================] - 5s 498ms/step - loss: 0.1835 - accuracy: 0.9170 - val_loss: 4.2269 - val_accuracy: 0.2683\n",
            "Epoch 10/20\n",
            "9/9 [==============================] - 5s 498ms/step - loss: 0.1717 - accuracy: 0.9206 - val_loss: 3.5582 - val_accuracy: 0.3415\n",
            "Epoch 11/20\n",
            "9/9 [==============================] - 5s 498ms/step - loss: 0.2098 - accuracy: 0.9097 - val_loss: 3.5651 - val_accuracy: 0.2927\n",
            "Epoch 12/20\n",
            "9/9 [==============================] - 5s 499ms/step - loss: 0.1807 - accuracy: 0.9170 - val_loss: 4.4866 - val_accuracy: 0.2683\n",
            "Epoch 13/20\n",
            "9/9 [==============================] - 5s 497ms/step - loss: 0.1842 - accuracy: 0.9170 - val_loss: 4.5940 - val_accuracy: 0.1951\n",
            "Epoch 14/20\n",
            "9/9 [==============================] - 5s 502ms/step - loss: 0.1738 - accuracy: 0.9170 - val_loss: 4.2086 - val_accuracy: 0.2927\n",
            "Epoch 15/20\n",
            "9/9 [==============================] - 5s 502ms/step - loss: 0.1589 - accuracy: 0.9206 - val_loss: 4.6226 - val_accuracy: 0.2927\n",
            "Epoch 16/20\n",
            "9/9 [==============================] - 5s 505ms/step - loss: 0.1830 - accuracy: 0.9134 - val_loss: 4.5819 - val_accuracy: 0.3171\n",
            "Epoch 17/20\n",
            "9/9 [==============================] - 5s 504ms/step - loss: 0.1716 - accuracy: 0.9242 - val_loss: 4.5080 - val_accuracy: 0.3659\n",
            "Epoch 18/20\n",
            "9/9 [==============================] - 5s 500ms/step - loss: 0.1768 - accuracy: 0.9097 - val_loss: 4.3028 - val_accuracy: 0.3171\n",
            "Epoch 19/20\n",
            "9/9 [==============================] - 5s 499ms/step - loss: 0.1841 - accuracy: 0.9061 - val_loss: 4.5737 - val_accuracy: 0.2927\n",
            "Epoch 20/20\n",
            "9/9 [==============================] - 5s 500ms/step - loss: 0.1622 - accuracy: 0.9097 - val_loss: 4.6906 - val_accuracy: 0.3415\n"
          ]
        }
      ]
    },
    {
      "cell_type": "code",
      "metadata": {
        "colab": {
          "base_uri": "https://localhost:8080/"
        },
        "id": "rI0wmSxZEftK",
        "outputId": "a9523a9b-b9f3-41bc-840d-91bd4b160c6c"
      },
      "source": [
        "loss, accuracy = model.evaluate(test_ds)\n",
        "print(f'Loss: {loss}')\n",
        "print(f'Test accuracy: {accuracy}')"
      ],
      "execution_count": 262,
      "outputs": [
        {
          "output_type": "stream",
          "name": "stdout",
          "text": [
            "1/1 [==============================] - 0s 237ms/step - loss: 6.1842 - accuracy: 0.2500\n",
            "Loss: 6.1842041015625\n",
            "Test accuracy: 0.25\n"
          ]
        }
      ]
    },
    {
      "cell_type": "markdown",
      "metadata": {
        "id": "7Jn2-x3yFvtn"
      },
      "source": [
        "The CNN architecture is composed of 3 convulutuional and pooling layers respectively, with each pair being followed by a dropout layer in an attempt to reduce overfitting, which clearly did not work. At each conv layer, I doubled the number of filters while keeping them the same default size of (3 x 3) since the images themselves are relatively small. The results are somewhat astonishing, considering the model's high training accuracy and incredibly low validation accuracy in comparison. With a rather extreme case of overfitting, a possible explanation could be the sheer lack of sufficient training data, especially considering the fact that every image is itself a new and unique pokemon. Even despite reducing our class size to 4, the model can't seem to generalize well outside of the training set as both the validation and test set accuracies are poor."
      ]
    },
    {
      "cell_type": "markdown",
      "metadata": {
        "id": "XkGDiycQE9OM"
      },
      "source": [
        "**Part 2** GoogleNet( InceptionV3 )"
      ]
    },
    {
      "cell_type": "code",
      "metadata": {
        "id": "V1lY3cnMKDtE"
      },
      "source": [
        "inception = tf.keras.applications.inception_v3.InceptionV3(\n",
        "  include_top=False,\n",
        "  input_shape=(IMG_SIZE[0], IMG_SIZE[1], 3),\n",
        "  weights='imagenet'\n",
        ")"
      ],
      "execution_count": 247,
      "outputs": []
    },
    {
      "cell_type": "code",
      "metadata": {
        "colab": {
          "base_uri": "https://localhost:8080/"
        },
        "id": "nrvZTalvKy86",
        "outputId": "38aa6efc-a451-414f-ff67-df099940a3ec"
      },
      "source": [
        "# Building the model\n",
        "\n",
        "input = tf.keras.Input((IMG_SIZE[0], IMG_SIZE[1], 3))\n",
        "x = tf.keras.applications.inception_v3.preprocess_input(input)\n",
        "x = inception(x)\n",
        "x = tf.keras.layers.GlobalAveragePooling2D()(x)\n",
        "x = tf.keras.layers.Dropout(0.2)(x)\n",
        "output = tf.keras.layers.Dense(4)(x)\n",
        "inception_model = tf.keras.Model(input, output)\n",
        "\n",
        "inception_model.compile(optimizer='adam',\n",
        "              loss=tf.keras.losses.CategoricalCrossentropy(from_logits=True),\n",
        "              metrics=['accuracy'])\n",
        "\n",
        "inception_model.summary()"
      ],
      "execution_count": 248,
      "outputs": [
        {
          "output_type": "stream",
          "name": "stdout",
          "text": [
            "Model: \"model_27\"\n",
            "_________________________________________________________________\n",
            "Layer (type)                 Output Shape              Param #   \n",
            "=================================================================\n",
            "input_37 (InputLayer)        [(None, 256, 256, 3)]     0         \n",
            "_________________________________________________________________\n",
            "tf.math.truediv_25 (TFOpLamb (None, 256, 256, 3)       0         \n",
            "_________________________________________________________________\n",
            "tf.math.subtract_24 (TFOpLam (None, 256, 256, 3)       0         \n",
            "_________________________________________________________________\n",
            "inception_v3 (Functional)    (None, 6, 6, 2048)        21802784  \n",
            "_________________________________________________________________\n",
            "global_average_pooling2d_7 ( (None, 2048)              0         \n",
            "_________________________________________________________________\n",
            "dropout_71 (Dropout)         (None, 2048)              0         \n",
            "_________________________________________________________________\n",
            "dense_123 (Dense)            (None, 4)                 8196      \n",
            "=================================================================\n",
            "Total params: 21,810,980\n",
            "Trainable params: 21,776,548\n",
            "Non-trainable params: 34,432\n",
            "_________________________________________________________________\n"
          ]
        }
      ]
    },
    {
      "cell_type": "code",
      "metadata": {
        "colab": {
          "base_uri": "https://localhost:8080/"
        },
        "id": "WW_Q9B57MSsY",
        "outputId": "ed8875fc-09a1-42de-fba7-a09085a6c8e1"
      },
      "source": [
        "history = inception_model.fit(train_ds,\n",
        "                    epochs=15,\n",
        "                    validation_data=val_ds)"
      ],
      "execution_count": 249,
      "outputs": [
        {
          "output_type": "stream",
          "name": "stdout",
          "text": [
            "Epoch 1/15\n",
            "9/9 [==============================] - 17s 962ms/step - loss: 1.3971 - accuracy: 0.4079 - val_loss: 31.3181 - val_accuracy: 0.3659\n",
            "Epoch 2/15\n",
            "9/9 [==============================] - 7s 774ms/step - loss: 0.8253 - accuracy: 0.6823 - val_loss: 44.4429 - val_accuracy: 0.1951\n",
            "Epoch 3/15\n",
            "9/9 [==============================] - 7s 776ms/step - loss: 0.4987 - accuracy: 0.8195 - val_loss: 146.9242 - val_accuracy: 0.1951\n",
            "Epoch 4/15\n",
            "9/9 [==============================] - 7s 773ms/step - loss: 0.4229 - accuracy: 0.8628 - val_loss: 79.9146 - val_accuracy: 0.2195\n",
            "Epoch 5/15\n",
            "9/9 [==============================] - 7s 774ms/step - loss: 0.3548 - accuracy: 0.8845 - val_loss: 8.1145 - val_accuracy: 0.1951\n",
            "Epoch 6/15\n",
            "9/9 [==============================] - 7s 774ms/step - loss: 0.2224 - accuracy: 0.9170 - val_loss: 6.5691 - val_accuracy: 0.2439\n",
            "Epoch 7/15\n",
            "9/9 [==============================] - 7s 780ms/step - loss: 0.1457 - accuracy: 0.9531 - val_loss: 12.0843 - val_accuracy: 0.1707\n",
            "Epoch 8/15\n",
            "9/9 [==============================] - 7s 776ms/step - loss: 0.1477 - accuracy: 0.9567 - val_loss: 5.0852 - val_accuracy: 0.0976\n",
            "Epoch 9/15\n",
            "9/9 [==============================] - 7s 777ms/step - loss: 0.2055 - accuracy: 0.9458 - val_loss: 13.5128 - val_accuracy: 0.1463\n",
            "Epoch 10/15\n",
            "9/9 [==============================] - 7s 777ms/step - loss: 0.2042 - accuracy: 0.9278 - val_loss: 3.3708 - val_accuracy: 0.3415\n",
            "Epoch 11/15\n",
            "9/9 [==============================] - 7s 773ms/step - loss: 0.3018 - accuracy: 0.9061 - val_loss: 3.2983 - val_accuracy: 0.3415\n",
            "Epoch 12/15\n",
            "9/9 [==============================] - 7s 772ms/step - loss: 0.2451 - accuracy: 0.9206 - val_loss: 2.2052 - val_accuracy: 0.4878\n",
            "Epoch 13/15\n",
            "9/9 [==============================] - 7s 775ms/step - loss: 0.1480 - accuracy: 0.9422 - val_loss: 4.0345 - val_accuracy: 0.3171\n",
            "Epoch 14/15\n",
            "9/9 [==============================] - 7s 772ms/step - loss: 0.0940 - accuracy: 0.9856 - val_loss: 4.6815 - val_accuracy: 0.4146\n",
            "Epoch 15/15\n",
            "9/9 [==============================] - 7s 772ms/step - loss: 0.0837 - accuracy: 0.9675 - val_loss: 9.8200 - val_accuracy: 0.4390\n"
          ]
        }
      ]
    },
    {
      "cell_type": "code",
      "metadata": {
        "colab": {
          "base_uri": "https://localhost:8080/"
        },
        "id": "A9KRTmMIPNr0",
        "outputId": "a3c1f17e-b263-40f8-e713-ace849115c57"
      },
      "source": [
        "loss, accuracy = inception_model.evaluate(test_ds)\n",
        "print(f'Loss: {loss}')\n",
        "print(f'Test accuracy: {accuracy}')"
      ],
      "execution_count": 261,
      "outputs": [
        {
          "output_type": "stream",
          "name": "stdout",
          "text": [
            "1/1 [==============================] - 0s 303ms/step - loss: 12.1144 - accuracy: 0.4062\n",
            "Loss: 12.11439037322998\n",
            "Test accuracy: 0.40625\n"
          ]
        }
      ]
    },
    {
      "cell_type": "markdown",
      "metadata": {
        "id": "ZP6tC6eCPb5R"
      },
      "source": [
        "The pretrained InceptionV3 model seems to provide somewhat better, if not significantly better, results in comparison to the model I implemented in Part I. The overall training accuracy increased to a much higher value, along with the ultimate test accuracy being much higher as well as the validation-accuracy approaching a more stable, higher value relative to the model that I implemented."
      ]
    },
    {
      "cell_type": "markdown",
      "metadata": {
        "id": "b6TasvkzRTOi"
      },
      "source": [
        "**Part III** Data Augmentation\n",
        "\n",
        "Tensorflow provides a handy suit of layers for Data augmentation as specified on https://www.tensorflow.org/tutorials/images/data_augmentation.\n",
        "\n",
        "We can simply add some of these layers into our original model (to benefit from GPU accel) and see what effects it has. "
      ]
    },
    {
      "cell_type": "code",
      "metadata": {
        "colab": {
          "base_uri": "https://localhost:8080/"
        },
        "id": "feEGuA8YR0SG",
        "outputId": "8371980f-57ed-4a94-bf76-75d0dd46eb8d"
      },
      "source": [
        "aug_model = tf.keras.Sequential([\n",
        "                             \n",
        "  # Preprocessing Input layer\n",
        "  tf.keras.layers.Resizing(256, 256, input_shape=(IMG_SIZE[0], IMG_SIZE[1], 3)),\n",
        "  \n",
        "  # Data Augmentation \n",
        "  tf.keras.layers.RandomRotation(0.05),\n",
        "  tf.keras.layers.RandomFlip(\"horizontal\"),\n",
        "  tf.keras.layers.RandomTranslation(0.98, 0.98),\n",
        "\n",
        "  # Convulutional and Pooling Layers\n",
        "  tf.keras.layers.Conv2D(filters = 64, kernel_size = (7, 7), activation='relu'),\n",
        "  tf.keras.layers.MaxPooling2D((2, 2)),\n",
        "  tf.keras.layers.Dropout(0.2),\n",
        "\n",
        "  tf.keras.layers.Conv2D(filters = 128, kernel_size = (7, 7), activation='relu'),\n",
        "  tf.keras.layers.MaxPooling2D((2, 2)),\n",
        "  tf.keras.layers.Dropout(0.2),\n",
        "\n",
        "  tf.keras.layers.Conv2D(filters = 256, kernel_size = (7, 7), activation='relu'),\n",
        "  tf.keras.layers.MaxPooling2D((2, 2)),\n",
        "  tf.keras.layers.Dropout(0.2),\n",
        "\n",
        "  # Final Dense Layers\n",
        "  tf.keras.layers.Flatten(),\n",
        "  tf.keras.layers.Dense(512, activation='relu'),\n",
        "  tf.keras.layers.Dense(256, activation='relu'),\n",
        "  tf.keras.layers.Dense(128, activation='relu'),\n",
        "  tf.keras.layers.Dropout(0.5),\n",
        "  tf.keras.layers.Dense(4)\n",
        "])\n",
        "\n",
        "aug_model.summary()"
      ],
      "execution_count": 251,
      "outputs": [
        {
          "output_type": "stream",
          "name": "stdout",
          "text": [
            "Model: \"sequential_28\"\n",
            "_________________________________________________________________\n",
            "Layer (type)                 Output Shape              Param #   \n",
            "=================================================================\n",
            "resizing_25 (Resizing)       (None, 256, 256, 3)       0         \n",
            "_________________________________________________________________\n",
            "random_rotation_5 (RandomRot (None, 256, 256, 3)       0         \n",
            "_________________________________________________________________\n",
            "random_flip_5 (RandomFlip)   (None, 256, 256, 3)       0         \n",
            "_________________________________________________________________\n",
            "random_translation_3 (Random (None, 256, 256, 3)       0         \n",
            "_________________________________________________________________\n",
            "conv2d_398 (Conv2D)          (None, 250, 250, 64)      9472      \n",
            "_________________________________________________________________\n",
            "max_pooling2d_127 (MaxPoolin (None, 125, 125, 64)      0         \n",
            "_________________________________________________________________\n",
            "dropout_72 (Dropout)         (None, 125, 125, 64)      0         \n",
            "_________________________________________________________________\n",
            "conv2d_399 (Conv2D)          (None, 119, 119, 128)     401536    \n",
            "_________________________________________________________________\n",
            "max_pooling2d_128 (MaxPoolin (None, 59, 59, 128)       0         \n",
            "_________________________________________________________________\n",
            "dropout_73 (Dropout)         (None, 59, 59, 128)       0         \n",
            "_________________________________________________________________\n",
            "conv2d_400 (Conv2D)          (None, 53, 53, 256)       1605888   \n",
            "_________________________________________________________________\n",
            "max_pooling2d_129 (MaxPoolin (None, 26, 26, 256)       0         \n",
            "_________________________________________________________________\n",
            "dropout_74 (Dropout)         (None, 26, 26, 256)       0         \n",
            "_________________________________________________________________\n",
            "flatten_37 (Flatten)         (None, 173056)            0         \n",
            "_________________________________________________________________\n",
            "dense_124 (Dense)            (None, 512)               88605184  \n",
            "_________________________________________________________________\n",
            "dense_125 (Dense)            (None, 256)               131328    \n",
            "_________________________________________________________________\n",
            "dense_126 (Dense)            (None, 128)               32896     \n",
            "_________________________________________________________________\n",
            "dropout_75 (Dropout)         (None, 128)               0         \n",
            "_________________________________________________________________\n",
            "dense_127 (Dense)            (None, 4)                 516       \n",
            "=================================================================\n",
            "Total params: 90,786,820\n",
            "Trainable params: 90,786,820\n",
            "Non-trainable params: 0\n",
            "_________________________________________________________________\n"
          ]
        }
      ]
    },
    {
      "cell_type": "code",
      "metadata": {
        "id": "ZQZCCzLLS3aM"
      },
      "source": [
        "aug_model.compile(\n",
        "    optimizer='adam',\n",
        "    loss=tf.keras.losses.CategoricalCrossentropy(from_logits=True),\n",
        "    metrics=['acc']  \n",
        ")"
      ],
      "execution_count": 252,
      "outputs": []
    },
    {
      "cell_type": "code",
      "metadata": {
        "colab": {
          "base_uri": "https://localhost:8080/"
        },
        "id": "Xzp_HCruTDP6",
        "outputId": "1cb32180-a2b9-44c9-f1f0-15a4b5fb6cde"
      },
      "source": [
        "history = aug_model.fit(\n",
        "            train_ds,\n",
        "            validation_data=val_ds,\n",
        "            epochs=20\n",
        "          )"
      ],
      "execution_count": 253,
      "outputs": [
        {
          "output_type": "stream",
          "name": "stdout",
          "text": [
            "Epoch 1/20\n",
            "9/9 [==============================] - 6s 537ms/step - loss: 128.7313 - acc: 0.2383 - val_loss: 1.3890 - val_acc: 0.2439\n",
            "Epoch 2/20\n",
            "9/9 [==============================] - 5s 508ms/step - loss: 1.3846 - acc: 0.3032 - val_loss: 1.3726 - val_acc: 0.2195\n",
            "Epoch 3/20\n",
            "9/9 [==============================] - 5s 507ms/step - loss: 1.3748 - acc: 0.2527 - val_loss: 1.3388 - val_acc: 0.3171\n",
            "Epoch 4/20\n",
            "9/9 [==============================] - 5s 506ms/step - loss: 1.3764 - acc: 0.2816 - val_loss: 1.3448 - val_acc: 0.3659\n",
            "Epoch 5/20\n",
            "9/9 [==============================] - 5s 504ms/step - loss: 1.3797 - acc: 0.2744 - val_loss: 1.3652 - val_acc: 0.4878\n",
            "Epoch 6/20\n",
            "9/9 [==============================] - 5s 506ms/step - loss: 1.3767 - acc: 0.3032 - val_loss: 1.3710 - val_acc: 0.2927\n",
            "Epoch 7/20\n",
            "9/9 [==============================] - 5s 505ms/step - loss: 1.3725 - acc: 0.3069 - val_loss: 1.3585 - val_acc: 0.3902\n",
            "Epoch 8/20\n",
            "9/9 [==============================] - 5s 506ms/step - loss: 1.3773 - acc: 0.2924 - val_loss: 1.3627 - val_acc: 0.3902\n",
            "Epoch 9/20\n",
            "9/9 [==============================] - 5s 506ms/step - loss: 1.3710 - acc: 0.2996 - val_loss: 1.3878 - val_acc: 0.2439\n",
            "Epoch 10/20\n",
            "9/9 [==============================] - 5s 507ms/step - loss: 1.3787 - acc: 0.2816 - val_loss: 1.3310 - val_acc: 0.4146\n",
            "Epoch 11/20\n",
            "9/9 [==============================] - 5s 508ms/step - loss: 1.3737 - acc: 0.2635 - val_loss: 1.3524 - val_acc: 0.3659\n",
            "Epoch 12/20\n",
            "9/9 [==============================] - 5s 507ms/step - loss: 1.3704 - acc: 0.2888 - val_loss: 1.3120 - val_acc: 0.3659\n",
            "Epoch 13/20\n",
            "9/9 [==============================] - 5s 506ms/step - loss: 1.3726 - acc: 0.2852 - val_loss: 1.3009 - val_acc: 0.4390\n",
            "Epoch 14/20\n",
            "9/9 [==============================] - 5s 505ms/step - loss: 1.3842 - acc: 0.2744 - val_loss: 1.3376 - val_acc: 0.4146\n",
            "Epoch 15/20\n",
            "9/9 [==============================] - 5s 507ms/step - loss: 1.3760 - acc: 0.2960 - val_loss: 1.3664 - val_acc: 0.2683\n",
            "Epoch 16/20\n",
            "9/9 [==============================] - 5s 509ms/step - loss: 1.3731 - acc: 0.2960 - val_loss: 1.3715 - val_acc: 0.3171\n",
            "Epoch 17/20\n",
            "9/9 [==============================] - 5s 505ms/step - loss: 1.3688 - acc: 0.2924 - val_loss: 1.3289 - val_acc: 0.4146\n",
            "Epoch 18/20\n",
            "9/9 [==============================] - 5s 502ms/step - loss: 1.3770 - acc: 0.2996 - val_loss: 1.3581 - val_acc: 0.3415\n",
            "Epoch 19/20\n",
            "9/9 [==============================] - 5s 507ms/step - loss: 1.3836 - acc: 0.2744 - val_loss: 1.3594 - val_acc: 0.3659\n",
            "Epoch 20/20\n",
            "9/9 [==============================] - 5s 502ms/step - loss: 1.3757 - acc: 0.2852 - val_loss: 1.3528 - val_acc: 0.4634\n"
          ]
        }
      ]
    },
    {
      "cell_type": "code",
      "metadata": {
        "colab": {
          "base_uri": "https://localhost:8080/"
        },
        "id": "7BEHLDUKVQ_A",
        "outputId": "ea3f67b7-ad53-47c6-ff3f-19ed44357ad7"
      },
      "source": [
        "loss, accuracy = aug_model.evaluate(test_ds)\n",
        "print(f'Loss: {loss}')\n",
        "print(f'Test accuracy: {accuracy}')"
      ],
      "execution_count": 254,
      "outputs": [
        {
          "output_type": "stream",
          "name": "stdout",
          "text": [
            "1/1 [==============================] - 0s 227ms/step - loss: 1.3700 - acc: 0.3125\n",
            "Loss: 1.3700456619262695\n",
            "Test accuracy: 0.3125\n"
          ]
        }
      ]
    },
    {
      "cell_type": "markdown",
      "metadata": {
        "id": "ug72_anZVGti"
      },
      "source": [
        "Perhaps too much data augmentation was used, since the training accuracy is **significantly** lower than that without. However, despite that, the validation accuracy and test accuracy still remain at decent values with respect to our original model. Given this, the training accuracy does seem to better approximate the test/validation accuracy and a case could be made that overfitting was reduced greatly, despite the accuracy itself being rather poor."
      ]
    },
    {
      "cell_type": "markdown",
      "metadata": {
        "id": "AEOwT7jtRR0Z"
      },
      "source": [
        "**Task 2 (30 points):**\n",
        "\n",
        "\n",
        "**Part 1 (15 points)**: Variational Autoencoder(VAE): Here is a complete implementation of a VAE in TensorFlow: https://www.tensorflow.org/tutorials/generative/cvae\n",
        "\n",
        "Following these steps try generating images using the same encoder-decoder architecture using a different image dataset (other than MNIST).\n",
        "\n",
        "**Part 2 (15 points)**: Generative Adversarial Networks (GAN): Repeat part 1 (use same dataset) and implement a GAN model to generate high quality syntheitc images. You may follow steps outlined here: : https://www.tensorflow.org/tutorials/generative/dcgan"
      ]
    },
    {
      "cell_type": "markdown",
      "metadata": {
        "id": "Sl-Ji-QCaPsq"
      },
      "source": [
        "**Part 1** \n",
        "\n",
        "Let's begin by using the code they provide in their tutorial."
      ]
    },
    {
      "cell_type": "code",
      "metadata": {
        "id": "NOBIDqV3aVEU"
      },
      "source": [
        "def preprocess_images(images):\n",
        "  images = images / 255. # Our images are already sized properly\n",
        "  return np.where(images > .5, 1.0, 0.0).astype('float32')\n",
        "\n",
        "train_images = np.concatenate([image for image, _ in train_ds], axis=0)\n",
        "test_images = np.concatenate([image for image, _ in val_ds], axis=0)\n",
        "\n",
        "train_images = preprocess_images(train_images)\n",
        "test_images = preprocess_images(test_images)\n",
        "\n"
      ],
      "execution_count": 266,
      "outputs": []
    },
    {
      "cell_type": "code",
      "metadata": {
        "id": "t3TDcLG3aqLB"
      },
      "source": [
        "train_size = 60000\n",
        "batch_size = 32\n",
        "test_size = 10000\n",
        "\n",
        "train_dataset = (tf.data.Dataset.from_tensor_slices(train_images)\n",
        "                 .shuffle(train_size).batch(batch_size))\n",
        "test_dataset = (tf.data.Dataset.from_tensor_slices(test_images)\n",
        "                .shuffle(test_size).batch(batch_size))"
      ],
      "execution_count": 267,
      "outputs": []
    },
    {
      "cell_type": "markdown",
      "metadata": {
        "id": "IcH-TbVLa0v4"
      },
      "source": [
        "All of the following sgements will simply be taken from the tutorial code since its already provided and altered accordingly to work with our pokemon dataset."
      ]
    },
    {
      "cell_type": "code",
      "metadata": {
        "id": "66MY2tQOauiU"
      },
      "source": [
        "# Directly from the tensorflow tutorial\n",
        "class CVAE(tf.keras.Model):\n",
        "  \"\"\"Convolutional variational autoencoder.\"\"\"\n",
        "\n",
        "  def __init__(self, latent_dim):\n",
        "    super(CVAE, self).__init__()\n",
        "    self.latent_dim = latent_dim\n",
        "    self.encoder = tf.keras.Sequential(\n",
        "        [\n",
        "            tf.keras.layers.InputLayer(input_shape=(IMG_SIZE[0], IMG_SIZE[1], 3)),\n",
        "            tf.keras.layers.Conv2D(\n",
        "                filters=32, kernel_size=3, strides=(2, 2), activation='relu'),\n",
        "            tf.keras.layers.Conv2D(\n",
        "                filters=64, kernel_size=3, strides=(2, 2), activation='relu'),\n",
        "            tf.keras.layers.Flatten(),\n",
        "            # No activation\n",
        "            tf.keras.layers.Dense(latent_dim + latent_dim),\n",
        "        ]\n",
        "    )\n",
        "\n",
        "    self.decoder = tf.keras.Sequential(\n",
        "        [\n",
        "            tf.keras.layers.InputLayer(input_shape=(latent_dim,)),\n",
        "            tf.keras.layers.Dense(units=64**3, activation=tf.nn.relu),\n",
        "            tf.keras.layers.Reshape(target_shape=(64, 64, 64)),\n",
        "            tf.keras.layers.Conv2DTranspose(\n",
        "                filters=64, kernel_size=3, strides=2, padding='same',\n",
        "                activation='relu'),\n",
        "            tf.keras.layers.Conv2DTranspose(\n",
        "                filters=32, kernel_size=3, strides=2, padding='same',\n",
        "                activation='relu'),\n",
        "            # No activation\n",
        "            tf.keras.layers.Conv2DTranspose(\n",
        "                filters=3, kernel_size=3, strides=1, padding='same'),\n",
        "        ]\n",
        "    )\n",
        "\n",
        "  @tf.function\n",
        "  def sample(self, eps=None):\n",
        "    if eps is None:\n",
        "      eps = tf.random.normal(shape=(100, self.latent_dim))\n",
        "    return self.decode(eps, apply_sigmoid=True)\n",
        "\n",
        "  def encode(self, x):\n",
        "    mean, logvar = tf.split(self.encoder(x), num_or_size_splits=2, axis=1)\n",
        "    return mean, logvar\n",
        "\n",
        "  def reparameterize(self, mean, logvar):\n",
        "    eps = tf.random.normal(shape=mean.shape)\n",
        "    return eps * tf.exp(logvar * .5) + mean\n",
        "\n",
        "  def decode(self, z, apply_sigmoid=False):\n",
        "    logits = self.decoder(z)\n",
        "    if apply_sigmoid:\n",
        "      probs = tf.sigmoid(logits)\n",
        "      return probs\n",
        "    return logits"
      ],
      "execution_count": 423,
      "outputs": []
    },
    {
      "cell_type": "code",
      "metadata": {
        "id": "Zezkk_CWaz8K"
      },
      "source": [
        "optimizer = tf.keras.optimizers.Adam(1e-4)\n",
        "\n",
        "\n",
        "def log_normal_pdf(sample, mean, logvar, raxis=1):\n",
        "  log2pi = tf.math.log(2. * np.pi)\n",
        "  return tf.reduce_sum(\n",
        "      -.5 * ((sample - mean) ** 2. * tf.exp(-logvar) + logvar + log2pi),\n",
        "      axis=raxis)\n",
        "\n",
        "\n",
        "def compute_loss(model, x):\n",
        "  mean, logvar = model.encode(x)\n",
        "  z = model.reparameterize(mean, logvar)\n",
        "  x_logit = model.decode(z)\n",
        "  cross_ent = tf.nn.sigmoid_cross_entropy_with_logits(logits=x_logit, labels=x)\n",
        "  logpx_z = -tf.reduce_sum(cross_ent, axis=[1, 2, 3])\n",
        "  logpz = log_normal_pdf(z, 0., 0.)\n",
        "  logqz_x = log_normal_pdf(z, mean, logvar)\n",
        "  return -tf.reduce_mean(logpx_z + logpz - logqz_x)\n",
        "\n",
        "\n",
        "@tf.function\n",
        "def train_step(model, x, optimizer):\n",
        "  \"\"\"Executes one training step and returns the loss.\n",
        "\n",
        "  This function computes the loss and gradients, and uses the latter to\n",
        "  update the model's parameters.\n",
        "  \"\"\"\n",
        "  with tf.GradientTape() as tape:\n",
        "    loss = compute_loss(model, x)\n",
        "  gradients = tape.gradient(loss, model.trainable_variables)\n",
        "  optimizer.apply_gradients(zip(gradients, model.trainable_variables))"
      ],
      "execution_count": 424,
      "outputs": []
    },
    {
      "cell_type": "code",
      "metadata": {
        "id": "iXNdc-0ta7bx"
      },
      "source": [
        "epochs = 30\n",
        "# set the dimensionality of the latent space to a plane for visualization later\n",
        "latent_dim = 100\n",
        "num_examples_to_generate = 16\n",
        "\n",
        "# keeping the random vector constant for generation (prediction) so\n",
        "# it will be easier to see the improvement.\n",
        "random_vector_for_generation = tf.random.normal(\n",
        "    shape=[num_examples_to_generate, latent_dim])\n",
        "model = CVAE(latent_dim)"
      ],
      "execution_count": 425,
      "outputs": []
    },
    {
      "cell_type": "code",
      "metadata": {
        "id": "beC3UMNKa8HD"
      },
      "source": [
        "def generate_and_save_images(model, epoch, test_sample):\n",
        "  mean, logvar = model.encode(test_sample)\n",
        "  z = model.reparameterize(mean, logvar)\n",
        "  predictions = model.sample(z)\n",
        "  fig = plt.figure(figsize=(4, 4))\n",
        "\n",
        "  for i in range(predictions.shape[0]):\n",
        "    plt.subplot(4, 4, i + 1)\n",
        "    plt.imshow(predictions[i, :, :, 0], cmap='gray')\n",
        "    plt.axis('off')\n",
        "\n",
        "  # tight_layout minimizes the overlap between 2 sub-plots\n",
        "  plt.savefig('image_at_epoch_{:04d}.png'.format(epoch))\n",
        "  plt.show()"
      ],
      "execution_count": 426,
      "outputs": []
    },
    {
      "cell_type": "code",
      "metadata": {
        "id": "sHHvtu3Oa9Aq"
      },
      "source": [
        "# Pick a sample of the test set for generating output images\n",
        "assert batch_size >= num_examples_to_generate\n",
        "for test_batch in test_dataset.take(1):\n",
        "  test_sample = test_batch[0:num_examples_to_generate, :, :, :]"
      ],
      "execution_count": 427,
      "outputs": []
    },
    {
      "cell_type": "code",
      "metadata": {
        "colab": {
          "base_uri": "https://localhost:8080/",
          "height": 265
        },
        "id": "f8iFf-VGa9-F",
        "outputId": "2e7ffc11-2f27-49b0-f4ea-1a8799d4ffa5"
      },
      "source": [
        "import time\n",
        "from IPython import display \n",
        "\n",
        "generate_and_save_images(model, 0, test_sample)\n",
        "\n",
        "for epoch in range(1, epochs + 1):\n",
        "  start_time = time.time()\n",
        "  for train_x in train_dataset:\n",
        "    train_step(model, train_x, optimizer)\n",
        "  end_time = time.time()\n",
        "\n",
        "  loss = tf.keras.metrics.Mean()\n",
        "  for test_x in test_dataset:\n",
        "    loss(compute_loss(model, test_x))\n",
        "  elbo = -loss.result()\n",
        "  display.clear_output(wait=False)\n",
        "  print('Epoch: {}, Test set ELBO: {}, time elapse for current epoch: {}'\n",
        "        .format(epoch, elbo, end_time - start_time))\n",
        "  generate_and_save_images(model, epoch, test_sample)"
      ],
      "execution_count": 428,
      "outputs": [
        {
          "output_type": "stream",
          "name": "stdout",
          "text": [
            "Epoch: 30, Test set ELBO: -46882.15625, time elapse for current epoch: 2.2847046852111816\n"
          ]
        },
        {
          "output_type": "display_data",
          "data": {
            "image/png": "[encoded data removed]",
            "text/plain": [
              "<Figure size 288x288 with 16 Axes>"
            ]
          },
          "metadata": {
            "needs_background": "light"
          }
        }
      ]
    },
    {
      "cell_type": "markdown",
      "metadata": {
        "id": "PpSPSLyeggW0"
      },
      "source": [
        "Well, those are some of the most interesting pokemon I've ever seen."
      ]
    },
    {
      "cell_type": "markdown",
      "metadata": {
        "id": "9AeE8o7fgPjm"
      },
      "source": [
        "**Part 2:** DCGAN\n",
        "\n",
        "Similar to the first part, let us simply use the provided code, fiddling around where necessary in order to accomadate our pokemon images."
      ]
    },
    {
      "cell_type": "code",
      "metadata": {
        "id": "j6s3_BWvgfeT"
      },
      "source": [
        "train_images = np.concatenate([image for image, _ in train_ds], axis=0)\n",
        "train_labels = np.concatenate([label for _, label in train_ds], axis=0)\n",
        "\n",
        "\n",
        "train_images = train_images.astype('float32')\n",
        "train_images = (train_images - 127.5) / 127.5  # Normalize the images to [-1, 1]"
      ],
      "execution_count": 431,
      "outputs": []
    },
    {
      "cell_type": "code",
      "metadata": {
        "id": "KwXrr1dtheb-"
      },
      "source": [
        "BUFFER_SIZE = 60000\n",
        "BATCH_SIZE = 256"
      ],
      "execution_count": 432,
      "outputs": []
    },
    {
      "cell_type": "code",
      "metadata": {
        "id": "aj16EmlwhgQ-"
      },
      "source": [
        "# Batch and shuffle the data\n",
        "train_dataset = tf.data.Dataset.from_tensor_slices(train_images).shuffle(BUFFER_SIZE).batch(BATCH_SIZE)"
      ],
      "execution_count": 433,
      "outputs": []
    },
    {
      "cell_type": "code",
      "metadata": {
        "id": "2WlmeIPshh9E"
      },
      "source": [
        "def make_generator_model():\n",
        "    model = tf.keras.Sequential()\n",
        "    model.add(tf.keras.layers.Dense(7*7*256, use_bias=False, input_shape=(100,)))\n",
        "    model.add(tf.keras.layers.BatchNormalization())\n",
        "    model.add(tf.keras.layers.LeakyReLU())\n",
        "\n",
        "    model.add(tf.keras.layers.Reshape((7, 7, 256)))\n",
        "    assert model.output_shape == (None, 7, 7, 256)  # Note: None is the batch size\n",
        "\n",
        "    model.add(tf.keras.layers.Conv2DTranspose(128, (5, 5), strides=(1, 1), padding='same', use_bias=False))\n",
        "    assert model.output_shape == (None, 7, 7, 128)\n",
        "    model.add(tf.keras.layers.BatchNormalization())\n",
        "    model.add(tf.keras.layers.LeakyReLU())\n",
        "\n",
        "    model.add(tf.keras.layers.Conv2DTranspose(64, (5, 5), strides=(2, 2), padding='same', use_bias=False))\n",
        "    assert model.output_shape == (None, 14, 14, 64)\n",
        "    model.add(tf.keras.layers.BatchNormalization())\n",
        "    model.add(tf.keras.layers.LeakyReLU())\n",
        "\n",
        "    model.add(tf.keras.layers.Conv2DTranspose(1, (5, 5), strides=(2, 2), padding='same', use_bias=False, activation='tanh'))\n",
        "    assert model.output_shape == (None, 28, 28, 1)\n",
        "\n",
        "    return model"
      ],
      "execution_count": 436,
      "outputs": []
    },
    {
      "cell_type": "code",
      "metadata": {
        "colab": {
          "base_uri": "https://localhost:8080/",
          "height": 282
        },
        "id": "v9uCdoDhhjdZ",
        "outputId": "36eeeb11-d1dd-44a0-9e5d-aae664ec2293"
      },
      "source": [
        "generator = make_generator_model()\n",
        "\n",
        "noise = tf.random.normal([1, 100])\n",
        "generated_image = generator(noise, training=False)\n",
        "\n",
        "plt.imshow(generated_image[0, :, :, 0], cmap='gray')"
      ],
      "execution_count": 437,
      "outputs": [
        {
          "output_type": "execute_result",
          "data": {
            "text/plain": [
              "<matplotlib.image.AxesImage at 0x7f59e439d5d0>"
            ]
          },
          "metadata": {},
          "execution_count": 437
        },
        {
          "output_type": "display_data",
          "data": {
            "image/png": "[encoded data removed]",
            "text/plain": [
              "<Figure size 432x288 with 1 Axes>"
            ]
          },
          "metadata": {
            "needs_background": "light"
          }
        }
      ]
    },
    {
      "cell_type": "code",
      "metadata": {
        "id": "2jAVcA3ChtnU"
      },
      "source": [
        "def make_discriminator_model():\n",
        "    model = tf.keras.Sequential()\n",
        "    model.add(tf.keras.layers.Conv2D(64, (5, 5), strides=(2, 2), padding='same',\n",
        "                                     input_shape=[28, 28, 1]))\n",
        "    model.add(tf.keras.layers.LeakyReLU())\n",
        "    model.add(tf.keras.layers.Dropout(0.3))\n",
        "\n",
        "    model.add(tf.keras.layers.Conv2D(128, (5, 5), strides=(2, 2), padding='same'))\n",
        "    model.add(tf.keras.layers.LeakyReLU())\n",
        "    model.add(tf.keras.layers.Dropout(0.3))\n",
        "\n",
        "    model.add(tf.keras.layers.Flatten())\n",
        "    model.add(tf.keras.layers.Dense(1))\n",
        "\n",
        "    return model"
      ],
      "execution_count": 440,
      "outputs": []
    },
    {
      "cell_type": "code",
      "metadata": {
        "colab": {
          "base_uri": "https://localhost:8080/"
        },
        "id": "ORLUq_kYhvGt",
        "outputId": "ee0af3fb-3377-418e-8228-ecb3d546b2b0"
      },
      "source": [
        "discriminator = make_discriminator_model()\n",
        "decision = discriminator(generated_image)\n",
        "print (decision)"
      ],
      "execution_count": 441,
      "outputs": [
        {
          "output_type": "stream",
          "name": "stdout",
          "text": [
            "tf.Tensor([[-0.00191755]], shape=(1, 1), dtype=float32)\n"
          ]
        }
      ]
    },
    {
      "cell_type": "code",
      "metadata": {
        "id": "9YkSfrhlh0Gg"
      },
      "source": [
        "# This method returns a helper function to compute cross entropy loss\n",
        "cross_entropy = tf.keras.losses.BinaryCrossentropy(from_logits=True)"
      ],
      "execution_count": 442,
      "outputs": []
    },
    {
      "cell_type": "code",
      "metadata": {
        "id": "6U39EuUxh1DM"
      },
      "source": [
        "def discriminator_loss(real_output, fake_output):\n",
        "    real_loss = cross_entropy(tf.ones_like(real_output), real_output)\n",
        "    fake_loss = cross_entropy(tf.zeros_like(fake_output), fake_output)\n",
        "    total_loss = real_loss + fake_loss\n",
        "    return total_loss"
      ],
      "execution_count": 443,
      "outputs": []
    },
    {
      "cell_type": "code",
      "metadata": {
        "id": "FSuyS_pPh18B"
      },
      "source": [
        "def generator_loss(fake_output):\n",
        "    return cross_entropy(tf.ones_like(fake_output), fake_output)"
      ],
      "execution_count": 444,
      "outputs": []
    },
    {
      "cell_type": "code",
      "metadata": {
        "id": "QXvQ8LbIh2q1"
      },
      "source": [
        "generator_optimizer = tf.keras.optimizers.Adam(1e-4)\n",
        "discriminator_optimizer = tf.keras.optimizers.Adam(1e-4)"
      ],
      "execution_count": 445,
      "outputs": []
    },
    {
      "cell_type": "code",
      "metadata": {
        "id": "czSsIb_kh3S_"
      },
      "source": [
        "checkpoint_dir = './training_checkpoints'\n",
        "checkpoint_prefix = os.path.join(checkpoint_dir, \"ckpt\")\n",
        "checkpoint = tf.train.Checkpoint(generator_optimizer=generator_optimizer,\n",
        "                                 discriminator_optimizer=discriminator_optimizer,\n",
        "                                 generator=generator,\n",
        "                                 discriminator=discriminator)"
      ],
      "execution_count": 446,
      "outputs": []
    },
    {
      "cell_type": "code",
      "metadata": {
        "id": "2o_UV8yvh4N0"
      },
      "source": [
        "EPOCHS = 50\n",
        "noise_dim = 100\n",
        "num_examples_to_generate = 16\n",
        "\n",
        "# You will reuse this seed overtime (so it's easier)\n",
        "# to visualize progress in the animated GIF)\n",
        "seed = tf.random.normal([num_examples_to_generate, noise_dim])"
      ],
      "execution_count": 447,
      "outputs": []
    },
    {
      "cell_type": "code",
      "metadata": {
        "id": "CIax8mBbh5o7"
      },
      "source": [
        "# Notice the use of `tf.function`\n",
        "# This annotation causes the function to be \"compiled\".\n",
        "@tf.function\n",
        "def train_step(images):\n",
        "    noise = tf.random.normal([BATCH_SIZE, noise_dim])\n",
        "\n",
        "    with tf.GradientTape() as gen_tape, tf.GradientTape() as disc_tape:\n",
        "      generated_images = generator(noise, training=True)\n",
        "\n",
        "      real_output = discriminator(images, training=True)\n",
        "      fake_output = discriminator(generated_images, training=True)\n",
        "\n",
        "      gen_loss = generator_loss(fake_output)\n",
        "      disc_loss = discriminator_loss(real_output, fake_output)\n",
        "\n",
        "    gradients_of_generator = gen_tape.gradient(gen_loss, generator.trainable_variables)\n",
        "    gradients_of_discriminator = disc_tape.gradient(disc_loss, discriminator.trainable_variables)\n",
        "\n",
        "    generator_optimizer.apply_gradients(zip(gradients_of_generator, generator.trainable_variables))\n",
        "    discriminator_optimizer.apply_gradients(zip(gradients_of_discriminator, discriminator.trainable_variables))"
      ],
      "execution_count": 448,
      "outputs": []
    },
    {
      "cell_type": "code",
      "metadata": {
        "id": "MB3xbzJLh6h1"
      },
      "source": [
        "def train(dataset, epochs):\n",
        "  for epoch in range(epochs):\n",
        "    start = time.time()\n",
        "\n",
        "    for image_batch in dataset:\n",
        "      train_step(image_batch)\n",
        "\n",
        "    # Produce images for the GIF as you go\n",
        "    display.clear_output(wait=True)\n",
        "    generate_and_save_images(generator,\n",
        "                             epoch + 1,\n",
        "                             seed)\n",
        "\n",
        "    # Save the model every 15 epochs\n",
        "    if (epoch + 1) % 15 == 0:\n",
        "      checkpoint.save(file_prefix = checkpoint_prefix)\n",
        "\n",
        "    print ('Time for epoch {} is {} sec'.format(epoch + 1, time.time()-start))\n",
        "\n",
        "  # Generate after the final epoch\n",
        "  display.clear_output(wait=True)\n",
        "  generate_and_save_images(generator,\n",
        "                           epochs,\n",
        "                           seed)"
      ],
      "execution_count": 449,
      "outputs": []
    },
    {
      "cell_type": "code",
      "metadata": {
        "id": "dJ0EkBv9h7n0"
      },
      "source": [
        "def generate_and_save_images(model, epoch, test_input):\n",
        "  # Notice `training` is set to False.\n",
        "  # This is so all layers run in inference mode (batchnorm).\n",
        "  predictions = model(test_input, training=False)\n",
        "\n",
        "  fig = plt.figure(figsize=(4, 4))\n",
        "\n",
        "  for i in range(predictions.shape[0]):\n",
        "      plt.subplot(4, 4, i+1)\n",
        "      plt.imshow(predictions[i, :, :, 0] * 127.5 + 127.5, cmap='gray')\n",
        "      plt.axis('off')\n",
        "\n",
        "  #plt.savefig('image_at_epoch_{:04d}.png'.format(epoch))\n",
        "  plt.show()"
      ],
      "execution_count": 450,
      "outputs": []
    },
    {
      "cell_type": "code",
      "metadata": {
        "colab": {
          "base_uri": "https://localhost:8080/",
          "height": 1000
        },
        "id": "msRO6f5hh_gR",
        "outputId": "eecf2930-914d-4c77-999c-964c6f65b17e"
      },
      "source": [
        "train(train_dataset, EPOCHS)"
      ],
      "execution_count": 451,
      "outputs": [
        {
          "output_type": "error",
          "ename": "ValueError",
          "evalue": "ignored",
          "traceback": [
            "\u001b[0;31m---------------------------------------------------------------------------\u001b[0m",
            "\u001b[0;31mValueError\u001b[0m                                Traceback (most recent call last)",
            "\u001b[0;32m<ipython-input-451-d152560ca122>\u001b[0m in \u001b[0;36m<module>\u001b[0;34m()\u001b[0m\n\u001b[0;32m----> 1\u001b[0;31m \u001b[0mtrain\u001b[0m\u001b[0;34m(\u001b[0m\u001b[0mtrain_dataset\u001b[0m\u001b[0;34m,\u001b[0m \u001b[0mEPOCHS\u001b[0m\u001b[0;34m)\u001b[0m\u001b[0;34m\u001b[0m\u001b[0;34m\u001b[0m\u001b[0m\n\u001b[0m",
            "\u001b[0;32m<ipython-input-449-93f27448dbc5>\u001b[0m in \u001b[0;36mtrain\u001b[0;34m(dataset, epochs)\u001b[0m\n\u001b[1;32m      4\u001b[0m \u001b[0;34m\u001b[0m\u001b[0m\n\u001b[1;32m      5\u001b[0m     \u001b[0;32mfor\u001b[0m \u001b[0mimage_batch\u001b[0m \u001b[0;32min\u001b[0m \u001b[0mdataset\u001b[0m\u001b[0;34m:\u001b[0m\u001b[0;34m\u001b[0m\u001b[0;34m\u001b[0m\u001b[0m\n\u001b[0;32m----> 6\u001b[0;31m       \u001b[0mtrain_step\u001b[0m\u001b[0;34m(\u001b[0m\u001b[0mimage_batch\u001b[0m\u001b[0;34m)\u001b[0m\u001b[0;34m\u001b[0m\u001b[0;34m\u001b[0m\u001b[0m\n\u001b[0m\u001b[1;32m      7\u001b[0m \u001b[0;34m\u001b[0m\u001b[0m\n\u001b[1;32m      8\u001b[0m     \u001b[0;31m# Produce images for the GIF as you go\u001b[0m\u001b[0;34m\u001b[0m\u001b[0;34m\u001b[0m\u001b[0;34m\u001b[0m\u001b[0m\n",
            "\u001b[0;32m/usr/local/lib/python3.7/dist-packages/tensorflow/python/eager/def_function.py\u001b[0m in \u001b[0;36m__call__\u001b[0;34m(self, *args, **kwds)\u001b[0m\n\u001b[1;32m    883\u001b[0m \u001b[0;34m\u001b[0m\u001b[0m\n\u001b[1;32m    884\u001b[0m       \u001b[0;32mwith\u001b[0m \u001b[0mOptionalXlaContext\u001b[0m\u001b[0;34m(\u001b[0m\u001b[0mself\u001b[0m\u001b[0;34m.\u001b[0m\u001b[0m_jit_compile\u001b[0m\u001b[0;34m)\u001b[0m\u001b[0;34m:\u001b[0m\u001b[0;34m\u001b[0m\u001b[0;34m\u001b[0m\u001b[0m\n\u001b[0;32m--> 885\u001b[0;31m         \u001b[0mresult\u001b[0m \u001b[0;34m=\u001b[0m \u001b[0mself\u001b[0m\u001b[0;34m.\u001b[0m\u001b[0m_call\u001b[0m\u001b[0;34m(\u001b[0m\u001b[0;34m*\u001b[0m\u001b[0margs\u001b[0m\u001b[0;34m,\u001b[0m \u001b[0;34m**\u001b[0m\u001b[0mkwds\u001b[0m\u001b[0;34m)\u001b[0m\u001b[0;34m\u001b[0m\u001b[0;34m\u001b[0m\u001b[0m\n\u001b[0m\u001b[1;32m    886\u001b[0m \u001b[0;34m\u001b[0m\u001b[0m\n\u001b[1;32m    887\u001b[0m       \u001b[0mnew_tracing_count\u001b[0m \u001b[0;34m=\u001b[0m \u001b[0mself\u001b[0m\u001b[0;34m.\u001b[0m\u001b[0mexperimental_get_tracing_count\u001b[0m\u001b[0;34m(\u001b[0m\u001b[0;34m)\u001b[0m\u001b[0;34m\u001b[0m\u001b[0;34m\u001b[0m\u001b[0m\n",
            "\u001b[0;32m/usr/local/lib/python3.7/dist-packages/tensorflow/python/eager/def_function.py\u001b[0m in \u001b[0;36m_call\u001b[0;34m(self, *args, **kwds)\u001b[0m\n\u001b[1;32m    931\u001b[0m       \u001b[0;31m# This is the first call of __call__, so we have to initialize.\u001b[0m\u001b[0;34m\u001b[0m\u001b[0;34m\u001b[0m\u001b[0;34m\u001b[0m\u001b[0m\n\u001b[1;32m    932\u001b[0m       \u001b[0minitializers\u001b[0m \u001b[0;34m=\u001b[0m \u001b[0;34m[\u001b[0m\u001b[0;34m]\u001b[0m\u001b[0;34m\u001b[0m\u001b[0;34m\u001b[0m\u001b[0m\n\u001b[0;32m--> 933\u001b[0;31m       \u001b[0mself\u001b[0m\u001b[0;34m.\u001b[0m\u001b[0m_initialize\u001b[0m\u001b[0;34m(\u001b[0m\u001b[0margs\u001b[0m\u001b[0;34m,\u001b[0m \u001b[0mkwds\u001b[0m\u001b[0;34m,\u001b[0m \u001b[0madd_initializers_to\u001b[0m\u001b[0;34m=\u001b[0m\u001b[0minitializers\u001b[0m\u001b[0;34m)\u001b[0m\u001b[0;34m\u001b[0m\u001b[0;34m\u001b[0m\u001b[0m\n\u001b[0m\u001b[1;32m    934\u001b[0m     \u001b[0;32mfinally\u001b[0m\u001b[0;34m:\u001b[0m\u001b[0;34m\u001b[0m\u001b[0;34m\u001b[0m\u001b[0m\n\u001b[1;32m    935\u001b[0m       \u001b[0;31m# At this point we know that the initialization is complete (or less\u001b[0m\u001b[0;34m\u001b[0m\u001b[0;34m\u001b[0m\u001b[0;34m\u001b[0m\u001b[0m\n",
            "\u001b[0;32m/usr/local/lib/python3.7/dist-packages/tensorflow/python/eager/def_function.py\u001b[0m in \u001b[0;36m_initialize\u001b[0;34m(self, args, kwds, add_initializers_to)\u001b[0m\n\u001b[1;32m    758\u001b[0m     self._concrete_stateful_fn = (\n\u001b[1;32m    759\u001b[0m         self._stateful_fn._get_concrete_function_internal_garbage_collected(  # pylint: disable=protected-access\n\u001b[0;32m--> 760\u001b[0;31m             *args, **kwds))\n\u001b[0m\u001b[1;32m    761\u001b[0m \u001b[0;34m\u001b[0m\u001b[0m\n\u001b[1;32m    762\u001b[0m     \u001b[0;32mdef\u001b[0m \u001b[0minvalid_creator_scope\u001b[0m\u001b[0;34m(\u001b[0m\u001b[0;34m*\u001b[0m\u001b[0munused_args\u001b[0m\u001b[0;34m,\u001b[0m \u001b[0;34m**\u001b[0m\u001b[0munused_kwds\u001b[0m\u001b[0;34m)\u001b[0m\u001b[0;34m:\u001b[0m\u001b[0;34m\u001b[0m\u001b[0;34m\u001b[0m\u001b[0m\n",
            "\u001b[0;32m/usr/local/lib/python3.7/dist-packages/tensorflow/python/eager/function.py\u001b[0m in \u001b[0;36m_get_concrete_function_internal_garbage_collected\u001b[0;34m(self, *args, **kwargs)\u001b[0m\n\u001b[1;32m   3064\u001b[0m       \u001b[0margs\u001b[0m\u001b[0;34m,\u001b[0m \u001b[0mkwargs\u001b[0m \u001b[0;34m=\u001b[0m \u001b[0;32mNone\u001b[0m\u001b[0;34m,\u001b[0m \u001b[0;32mNone\u001b[0m\u001b[0;34m\u001b[0m\u001b[0;34m\u001b[0m\u001b[0m\n\u001b[1;32m   3065\u001b[0m     \u001b[0;32mwith\u001b[0m \u001b[0mself\u001b[0m\u001b[0;34m.\u001b[0m\u001b[0m_lock\u001b[0m\u001b[0;34m:\u001b[0m\u001b[0;34m\u001b[0m\u001b[0;34m\u001b[0m\u001b[0m\n\u001b[0;32m-> 3066\u001b[0;31m       \u001b[0mgraph_function\u001b[0m\u001b[0;34m,\u001b[0m \u001b[0m_\u001b[0m \u001b[0;34m=\u001b[0m \u001b[0mself\u001b[0m\u001b[0;34m.\u001b[0m\u001b[0m_maybe_define_function\u001b[0m\u001b[0;34m(\u001b[0m\u001b[0margs\u001b[0m\u001b[0;34m,\u001b[0m \u001b[0mkwargs\u001b[0m\u001b[0;34m)\u001b[0m\u001b[0;34m\u001b[0m\u001b[0;34m\u001b[0m\u001b[0m\n\u001b[0m\u001b[1;32m   3067\u001b[0m     \u001b[0;32mreturn\u001b[0m \u001b[0mgraph_function\u001b[0m\u001b[0;34m\u001b[0m\u001b[0;34m\u001b[0m\u001b[0m\n\u001b[1;32m   3068\u001b[0m \u001b[0;34m\u001b[0m\u001b[0m\n",
            "\u001b[0;32m/usr/local/lib/python3.7/dist-packages/tensorflow/python/eager/function.py\u001b[0m in \u001b[0;36m_maybe_define_function\u001b[0;34m(self, args, kwargs)\u001b[0m\n\u001b[1;32m   3461\u001b[0m \u001b[0;34m\u001b[0m\u001b[0m\n\u001b[1;32m   3462\u001b[0m           \u001b[0mself\u001b[0m\u001b[0;34m.\u001b[0m\u001b[0m_function_cache\u001b[0m\u001b[0;34m.\u001b[0m\u001b[0mmissed\u001b[0m\u001b[0;34m.\u001b[0m\u001b[0madd\u001b[0m\u001b[0;34m(\u001b[0m\u001b[0mcall_context_key\u001b[0m\u001b[0;34m)\u001b[0m\u001b[0;34m\u001b[0m\u001b[0;34m\u001b[0m\u001b[0m\n\u001b[0;32m-> 3463\u001b[0;31m           \u001b[0mgraph_function\u001b[0m \u001b[0;34m=\u001b[0m \u001b[0mself\u001b[0m\u001b[0;34m.\u001b[0m\u001b[0m_create_graph_function\u001b[0m\u001b[0;34m(\u001b[0m\u001b[0margs\u001b[0m\u001b[0;34m,\u001b[0m \u001b[0mkwargs\u001b[0m\u001b[0;34m)\u001b[0m\u001b[0;34m\u001b[0m\u001b[0;34m\u001b[0m\u001b[0m\n\u001b[0m\u001b[1;32m   3464\u001b[0m           \u001b[0mself\u001b[0m\u001b[0;34m.\u001b[0m\u001b[0m_function_cache\u001b[0m\u001b[0;34m.\u001b[0m\u001b[0mprimary\u001b[0m\u001b[0;34m[\u001b[0m\u001b[0mcache_key\u001b[0m\u001b[0;34m]\u001b[0m \u001b[0;34m=\u001b[0m \u001b[0mgraph_function\u001b[0m\u001b[0;34m\u001b[0m\u001b[0;34m\u001b[0m\u001b[0m\n\u001b[1;32m   3465\u001b[0m \u001b[0;34m\u001b[0m\u001b[0m\n",
            "\u001b[0;32m/usr/local/lib/python3.7/dist-packages/tensorflow/python/eager/function.py\u001b[0m in \u001b[0;36m_create_graph_function\u001b[0;34m(self, args, kwargs, override_flat_arg_shapes)\u001b[0m\n\u001b[1;32m   3306\u001b[0m             \u001b[0marg_names\u001b[0m\u001b[0;34m=\u001b[0m\u001b[0marg_names\u001b[0m\u001b[0;34m,\u001b[0m\u001b[0;34m\u001b[0m\u001b[0;34m\u001b[0m\u001b[0m\n\u001b[1;32m   3307\u001b[0m             \u001b[0moverride_flat_arg_shapes\u001b[0m\u001b[0;34m=\u001b[0m\u001b[0moverride_flat_arg_shapes\u001b[0m\u001b[0;34m,\u001b[0m\u001b[0;34m\u001b[0m\u001b[0;34m\u001b[0m\u001b[0m\n\u001b[0;32m-> 3308\u001b[0;31m             capture_by_value=self._capture_by_value),\n\u001b[0m\u001b[1;32m   3309\u001b[0m         \u001b[0mself\u001b[0m\u001b[0;34m.\u001b[0m\u001b[0m_function_attributes\u001b[0m\u001b[0;34m,\u001b[0m\u001b[0;34m\u001b[0m\u001b[0;34m\u001b[0m\u001b[0m\n\u001b[1;32m   3310\u001b[0m         \u001b[0mfunction_spec\u001b[0m\u001b[0;34m=\u001b[0m\u001b[0mself\u001b[0m\u001b[0;34m.\u001b[0m\u001b[0mfunction_spec\u001b[0m\u001b[0;34m,\u001b[0m\u001b[0;34m\u001b[0m\u001b[0;34m\u001b[0m\u001b[0m\n",
            "\u001b[0;32m/usr/local/lib/python3.7/dist-packages/tensorflow/python/framework/func_graph.py\u001b[0m in \u001b[0;36mfunc_graph_from_py_func\u001b[0;34m(name, python_func, args, kwargs, signature, func_graph, autograph, autograph_options, add_control_dependencies, arg_names, op_return_value, collections, capture_by_value, override_flat_arg_shapes, acd_record_initial_resource_uses)\u001b[0m\n\u001b[1;32m   1005\u001b[0m         \u001b[0m_\u001b[0m\u001b[0;34m,\u001b[0m \u001b[0moriginal_func\u001b[0m \u001b[0;34m=\u001b[0m \u001b[0mtf_decorator\u001b[0m\u001b[0;34m.\u001b[0m\u001b[0munwrap\u001b[0m\u001b[0;34m(\u001b[0m\u001b[0mpython_func\u001b[0m\u001b[0;34m)\u001b[0m\u001b[0;34m\u001b[0m\u001b[0;34m\u001b[0m\u001b[0m\n\u001b[1;32m   1006\u001b[0m \u001b[0;34m\u001b[0m\u001b[0m\n\u001b[0;32m-> 1007\u001b[0;31m       \u001b[0mfunc_outputs\u001b[0m \u001b[0;34m=\u001b[0m \u001b[0mpython_func\u001b[0m\u001b[0;34m(\u001b[0m\u001b[0;34m*\u001b[0m\u001b[0mfunc_args\u001b[0m\u001b[0;34m,\u001b[0m \u001b[0;34m**\u001b[0m\u001b[0mfunc_kwargs\u001b[0m\u001b[0;34m)\u001b[0m\u001b[0;34m\u001b[0m\u001b[0;34m\u001b[0m\u001b[0m\n\u001b[0m\u001b[1;32m   1008\u001b[0m \u001b[0;34m\u001b[0m\u001b[0m\n\u001b[1;32m   1009\u001b[0m       \u001b[0;31m# invariant: `func_outputs` contains only Tensors, CompositeTensors,\u001b[0m\u001b[0;34m\u001b[0m\u001b[0;34m\u001b[0m\u001b[0;34m\u001b[0m\u001b[0m\n",
            "\u001b[0;32m/usr/local/lib/python3.7/dist-packages/tensorflow/python/eager/def_function.py\u001b[0m in \u001b[0;36mwrapped_fn\u001b[0;34m(*args, **kwds)\u001b[0m\n\u001b[1;32m    666\u001b[0m         \u001b[0;31m# the function a weak reference to itself to avoid a reference cycle.\u001b[0m\u001b[0;34m\u001b[0m\u001b[0;34m\u001b[0m\u001b[0;34m\u001b[0m\u001b[0m\n\u001b[1;32m    667\u001b[0m         \u001b[0;32mwith\u001b[0m \u001b[0mOptionalXlaContext\u001b[0m\u001b[0;34m(\u001b[0m\u001b[0mcompile_with_xla\u001b[0m\u001b[0;34m)\u001b[0m\u001b[0;34m:\u001b[0m\u001b[0;34m\u001b[0m\u001b[0;34m\u001b[0m\u001b[0m\n\u001b[0;32m--> 668\u001b[0;31m           \u001b[0mout\u001b[0m \u001b[0;34m=\u001b[0m \u001b[0mweak_wrapped_fn\u001b[0m\u001b[0;34m(\u001b[0m\u001b[0;34m)\u001b[0m\u001b[0;34m.\u001b[0m\u001b[0m__wrapped__\u001b[0m\u001b[0;34m(\u001b[0m\u001b[0;34m*\u001b[0m\u001b[0margs\u001b[0m\u001b[0;34m,\u001b[0m \u001b[0;34m**\u001b[0m\u001b[0mkwds\u001b[0m\u001b[0;34m)\u001b[0m\u001b[0;34m\u001b[0m\u001b[0;34m\u001b[0m\u001b[0m\n\u001b[0m\u001b[1;32m    669\u001b[0m         \u001b[0;32mreturn\u001b[0m \u001b[0mout\u001b[0m\u001b[0;34m\u001b[0m\u001b[0;34m\u001b[0m\u001b[0m\n\u001b[1;32m    670\u001b[0m \u001b[0;34m\u001b[0m\u001b[0m\n",
            "\u001b[0;32m/usr/local/lib/python3.7/dist-packages/tensorflow/python/framework/func_graph.py\u001b[0m in \u001b[0;36mwrapper\u001b[0;34m(*args, **kwargs)\u001b[0m\n\u001b[1;32m    992\u001b[0m           \u001b[0;32mexcept\u001b[0m \u001b[0mException\u001b[0m \u001b[0;32mas\u001b[0m \u001b[0me\u001b[0m\u001b[0;34m:\u001b[0m  \u001b[0;31m# pylint:disable=broad-except\u001b[0m\u001b[0;34m\u001b[0m\u001b[0;34m\u001b[0m\u001b[0m\n\u001b[1;32m    993\u001b[0m             \u001b[0;32mif\u001b[0m \u001b[0mhasattr\u001b[0m\u001b[0;34m(\u001b[0m\u001b[0me\u001b[0m\u001b[0;34m,\u001b[0m \u001b[0;34m\"ag_error_metadata\"\u001b[0m\u001b[0;34m)\u001b[0m\u001b[0;34m:\u001b[0m\u001b[0;34m\u001b[0m\u001b[0;34m\u001b[0m\u001b[0m\n\u001b[0;32m--> 994\u001b[0;31m               \u001b[0;32mraise\u001b[0m \u001b[0me\u001b[0m\u001b[0;34m.\u001b[0m\u001b[0mag_error_metadata\u001b[0m\u001b[0;34m.\u001b[0m\u001b[0mto_exception\u001b[0m\u001b[0;34m(\u001b[0m\u001b[0me\u001b[0m\u001b[0;34m)\u001b[0m\u001b[0;34m\u001b[0m\u001b[0;34m\u001b[0m\u001b[0m\n\u001b[0m\u001b[1;32m    995\u001b[0m             \u001b[0;32melse\u001b[0m\u001b[0;34m:\u001b[0m\u001b[0;34m\u001b[0m\u001b[0;34m\u001b[0m\u001b[0m\n\u001b[1;32m    996\u001b[0m               \u001b[0;32mraise\u001b[0m\u001b[0;34m\u001b[0m\u001b[0;34m\u001b[0m\u001b[0m\n",
            "\u001b[0;31mValueError\u001b[0m: in user code:\n\n    <ipython-input-448-ae02327b3832>:10 train_step  *\n        real_output = discriminator(images, training=True)\n    /usr/local/lib/python3.7/dist-packages/keras/engine/base_layer.py:1020 __call__  **\n        input_spec.assert_input_compatibility(self.input_spec, inputs, self.name)\n    /usr/local/lib/python3.7/dist-packages/keras/engine/input_spec.py:254 assert_input_compatibility\n        ' but received input with shape ' + display_shape(x.shape))\n\n    ValueError: Input 0 of layer sequential_86 is incompatible with the layer: expected axis -1 of input shape to have value 1 but received input with shape (256, 256, 256, 3)\n"
          ]
        }
      ]
    },
    {
      "cell_type": "markdown",
      "metadata": {
        "id": "ZSn4ZhRriuUv"
      },
      "source": [
        "unfinished gan"
      ]
    }
  ]
}