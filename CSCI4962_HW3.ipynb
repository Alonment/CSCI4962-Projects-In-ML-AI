{
  "nbformat": 4,
  "nbformat_minor": 0,
  "metadata": {
    "colab": {
      "name": "CSCI4962_HW3.ipynb",
      "provenance": [],
      "collapsed_sections": [],
      "mount_file_id": "1D5b_lLN5F4FIAuy_5tnT-FMWUDSnZ-a5",
      "authorship_tag": "ABX9TyN+WMOBgxyan4xjorpB7qkB",
      "include_colab_link": true
    },
    "kernelspec": {
      "name": "python3",
      "display_name": "Python 3"
    },
    "language_info": {
      "name": "python"
    }
  },
  "cells": [
    {
      "cell_type": "markdown",
      "metadata": {
        "id": "view-in-github",
        "colab_type": "text"
      },
      "source": [
        "<a href=\"https://colab.research.google.com/github/Alonment/CSCI4962-Projects-In-ML-AI/blob/main/CSCI4962_HW3.ipynb\" target=\"_parent\"><img src=\"https://colab.research.google.com/assets/colab-badge.svg\" alt=\"Open In Colab\"/></a>"
      ]
    },
    {
      "cell_type": "markdown",
      "metadata": {
        "id": "Xj8c6E_uZ0F-"
      },
      "source": [
        "\n",
        "Problem Statement: Classify a given image of a number (0-9).\n",
        "\n",
        "Dataset - https://www.kaggle.com/c/digit-recognizer/data\n"
      ]
    },
    {
      "cell_type": "markdown",
      "metadata": {
        "id": "8QlAkQIMznw_"
      },
      "source": [
        "**Task 1(25 points)**: Assuming you are not familiar with the framework, in this part of the homework you will present your research describing the resources you used to learn the framework (must include links to all resources). Clearly explain why you needed a particular resource for implementing a 2-layer Neural Network (NN). (Consider how you will keep track of all the computations in a NN i.e., what libraries/tools do you need within this framework.)\n"
      ]
    },
    {
      "cell_type": "markdown",
      "metadata": {
        "id": "ZURc5FxjacZT"
      },
      "source": [
        "The framework I decided to explore and learn more about is Tensorflow. Given that I have zero experience with any ML/AI framework, the various beginner tutorials available both on Tensorflow's website and other sources such as Medium or Youtube were valuable resources as I acquanted myself with what features and capabilities Tensorflow provided. Furthermore, the video snippet (link below) gave me a unique perspective of what neural networks were in context with what structures and operations existed in Tensorflow itself.\n",
        "\n",
        "\n",
        "---\n",
        "\n",
        "\n",
        "Just to reinforce the topics discussed during lecture, I reviewed basic NN architecture and ideas through this rather detailed and precise youtube video (https://www.youtube.com/watch?v=tPYj3fFJGjk) [2:45 ~ 3:35]. Furthermore, the beginner and advanced tutorials available on Tensorflow's website (https://www.tensorflow.org/overview) proved to be valuable resources as I quickly gained insight into what operations and classes tensorflow provided in regards to their built in layers, activation functions, optimizers, etc.\n",
        "\n",
        "\n",
        "---\n",
        "\n",
        "In regards to the actual architecture that Tensorflow implements, Keras appears to be the standard. Thus, https://www.tensorflow.org/guide/intro_to_modules#keras_models_and_layers helped in my understanding of what exactly a tensorflow layer is composed of as well as what possible layers existed and how they interacted with one another (i.e. Dense layers, Feature layers, etc.). All of this information was invaluable in actually utlizing Tensorflow and all of its operations/capabilites properly."
      ]
    },
    {
      "cell_type": "markdown",
      "metadata": {
        "id": "WE9d203r6lXV"
      },
      "source": [
        "**Task 2 (60 points)**: Once you have figured the resources you need for the project, design, and implement your project. The project must include the following steps (it's not limited to these steps):\n",
        "\n",
        "  1. Exploratory Data Analysis (Can include data cleaning, visualization etc.)\n",
        "  2. Perform a train-dev-test split.\n",
        "  3. Implement forward propagation (clearly describe the activation functions and other hyper-parameters you are using).\n",
        "  4. Compute the final cost function.\n",
        "  5. Implement mini-batch gradient descent to train your model. In this step it is up to you as someone in charge of their project to improvise using optimzation algorithms (Adams, RMSProp etc.) and/or regularization.\n",
        "  6. Present the results using the test set."
      ]
    },
    {
      "cell_type": "markdown",
      "metadata": {
        "id": "zD7Y_xnqWRsF"
      },
      "source": [
        "**Exploratory Data Analysis**\n",
        "\n",
        "\n",
        "---\n",
        "\n",
        "Since the MNIST handwritten digit dataset is rather well-known and commonly used when individuals begin their image classification journey, it's more likely than not that the data is already thoroughly cleaned and proper. Nonetheless, we continue with our EDA.\n",
        "\n"
      ]
    },
    {
      "cell_type": "code",
      "metadata": {
        "id": "BFHELD9jiuB6"
      },
      "source": [
        "# Import necessary libraries\n",
        "import pandas as pd\n",
        "import tensorflow as tf\n",
        "import numpy as np\n",
        "import matplotlib.pyplot as plt\n",
        "\n",
        "tf.get_logger().setLevel('ERROR')\n",
        "\n",
        "#Load dataset\n",
        "df_train = pd.read_csv(\"drive/MyDrive/csci4962_hw3_train.csv\")"
      ],
      "execution_count": null,
      "outputs": []
    },
    {
      "cell_type": "code",
      "metadata": {
        "colab": {
          "base_uri": "https://localhost:8080/",
          "height": 253
        },
        "id": "ebIbhGeDSR6S",
        "outputId": "336946ad-9d33-485c-8d0f-25d17c2cc321"
      },
      "source": [
        "df_train.head()"
      ],
      "execution_count": null,
      "outputs": [
        {
          "output_type": "execute_result",
          "data": {
            "text/html": [
              "<div>\n",
              "<style scoped>\n",
              "    .dataframe tbody tr th:only-of-type {\n",
              "        vertical-align: middle;\n",
              "    }\n",
              "\n",
              "    .dataframe tbody tr th {\n",
              "        vertical-align: top;\n",
              "    }\n",
              "\n",
              "    .dataframe thead th {\n",
              "        text-align: right;\n",
              "    }\n",
              "</style>\n",
              "<table border=\"1\" class=\"dataframe\">\n",
              "  <thead>\n",
              "    <tr style=\"text-align: right;\">\n",
              "      <th></th>\n",
              "      <th>label</th>\n",
              "      <th>pixel0</th>\n",
              "      <th>pixel1</th>\n",
              "      <th>pixel2</th>\n",
              "      <th>pixel3</th>\n",
              "      <th>pixel4</th>\n",
              "      <th>pixel5</th>\n",
              "      <th>pixel6</th>\n",
              "      <th>pixel7</th>\n",
              "      <th>pixel8</th>\n",
              "      <th>pixel9</th>\n",
              "      <th>pixel10</th>\n",
              "      <th>pixel11</th>\n",
              "      <th>pixel12</th>\n",
              "      <th>pixel13</th>\n",
              "      <th>pixel14</th>\n",
              "      <th>pixel15</th>\n",
              "      <th>pixel16</th>\n",
              "      <th>pixel17</th>\n",
              "      <th>pixel18</th>\n",
              "      <th>pixel19</th>\n",
              "      <th>pixel20</th>\n",
              "      <th>pixel21</th>\n",
              "      <th>pixel22</th>\n",
              "      <th>pixel23</th>\n",
              "      <th>pixel24</th>\n",
              "      <th>pixel25</th>\n",
              "      <th>pixel26</th>\n",
              "      <th>pixel27</th>\n",
              "      <th>pixel28</th>\n",
              "      <th>pixel29</th>\n",
              "      <th>pixel30</th>\n",
              "      <th>pixel31</th>\n",
              "      <th>pixel32</th>\n",
              "      <th>pixel33</th>\n",
              "      <th>pixel34</th>\n",
              "      <th>pixel35</th>\n",
              "      <th>pixel36</th>\n",
              "      <th>pixel37</th>\n",
              "      <th>pixel38</th>\n",
              "      <th>...</th>\n",
              "      <th>pixel744</th>\n",
              "      <th>pixel745</th>\n",
              "      <th>pixel746</th>\n",
              "      <th>pixel747</th>\n",
              "      <th>pixel748</th>\n",
              "      <th>pixel749</th>\n",
              "      <th>pixel750</th>\n",
              "      <th>pixel751</th>\n",
              "      <th>pixel752</th>\n",
              "      <th>pixel753</th>\n",
              "      <th>pixel754</th>\n",
              "      <th>pixel755</th>\n",
              "      <th>pixel756</th>\n",
              "      <th>pixel757</th>\n",
              "      <th>pixel758</th>\n",
              "      <th>pixel759</th>\n",
              "      <th>pixel760</th>\n",
              "      <th>pixel761</th>\n",
              "      <th>pixel762</th>\n",
              "      <th>pixel763</th>\n",
              "      <th>pixel764</th>\n",
              "      <th>pixel765</th>\n",
              "      <th>pixel766</th>\n",
              "      <th>pixel767</th>\n",
              "      <th>pixel768</th>\n",
              "      <th>pixel769</th>\n",
              "      <th>pixel770</th>\n",
              "      <th>pixel771</th>\n",
              "      <th>pixel772</th>\n",
              "      <th>pixel773</th>\n",
              "      <th>pixel774</th>\n",
              "      <th>pixel775</th>\n",
              "      <th>pixel776</th>\n",
              "      <th>pixel777</th>\n",
              "      <th>pixel778</th>\n",
              "      <th>pixel779</th>\n",
              "      <th>pixel780</th>\n",
              "      <th>pixel781</th>\n",
              "      <th>pixel782</th>\n",
              "      <th>pixel783</th>\n",
              "    </tr>\n",
              "  </thead>\n",
              "  <tbody>\n",
              "    <tr>\n",
              "      <th>0</th>\n",
              "      <td>1</td>\n",
              "      <td>0</td>\n",
              "      <td>0</td>\n",
              "      <td>0</td>\n",
              "      <td>0</td>\n",
              "      <td>0</td>\n",
              "      <td>0</td>\n",
              "      <td>0</td>\n",
              "      <td>0</td>\n",
              "      <td>0</td>\n",
              "      <td>0</td>\n",
              "      <td>0</td>\n",
              "      <td>0</td>\n",
              "      <td>0</td>\n",
              "      <td>0</td>\n",
              "      <td>0</td>\n",
              "      <td>0</td>\n",
              "      <td>0</td>\n",
              "      <td>0</td>\n",
              "      <td>0</td>\n",
              "      <td>0</td>\n",
              "      <td>0</td>\n",
              "      <td>0</td>\n",
              "      <td>0</td>\n",
              "      <td>0</td>\n",
              "      <td>0</td>\n",
              "      <td>0</td>\n",
              "      <td>0</td>\n",
              "      <td>0</td>\n",
              "      <td>0</td>\n",
              "      <td>0</td>\n",
              "      <td>0</td>\n",
              "      <td>0</td>\n",
              "      <td>0</td>\n",
              "      <td>0</td>\n",
              "      <td>0</td>\n",
              "      <td>0</td>\n",
              "      <td>0</td>\n",
              "      <td>0</td>\n",
              "      <td>0</td>\n",
              "      <td>...</td>\n",
              "      <td>0</td>\n",
              "      <td>0</td>\n",
              "      <td>0</td>\n",
              "      <td>0</td>\n",
              "      <td>0</td>\n",
              "      <td>0</td>\n",
              "      <td>0</td>\n",
              "      <td>0</td>\n",
              "      <td>0</td>\n",
              "      <td>0</td>\n",
              "      <td>0</td>\n",
              "      <td>0</td>\n",
              "      <td>0</td>\n",
              "      <td>0</td>\n",
              "      <td>0</td>\n",
              "      <td>0</td>\n",
              "      <td>0</td>\n",
              "      <td>0</td>\n",
              "      <td>0</td>\n",
              "      <td>0</td>\n",
              "      <td>0</td>\n",
              "      <td>0</td>\n",
              "      <td>0</td>\n",
              "      <td>0</td>\n",
              "      <td>0</td>\n",
              "      <td>0</td>\n",
              "      <td>0</td>\n",
              "      <td>0</td>\n",
              "      <td>0</td>\n",
              "      <td>0</td>\n",
              "      <td>0</td>\n",
              "      <td>0</td>\n",
              "      <td>0</td>\n",
              "      <td>0</td>\n",
              "      <td>0</td>\n",
              "      <td>0</td>\n",
              "      <td>0</td>\n",
              "      <td>0</td>\n",
              "      <td>0</td>\n",
              "      <td>0</td>\n",
              "    </tr>\n",
              "    <tr>\n",
              "      <th>1</th>\n",
              "      <td>0</td>\n",
              "      <td>0</td>\n",
              "      <td>0</td>\n",
              "      <td>0</td>\n",
              "      <td>0</td>\n",
              "      <td>0</td>\n",
              "      <td>0</td>\n",
              "      <td>0</td>\n",
              "      <td>0</td>\n",
              "      <td>0</td>\n",
              "      <td>0</td>\n",
              "      <td>0</td>\n",
              "      <td>0</td>\n",
              "      <td>0</td>\n",
              "      <td>0</td>\n",
              "      <td>0</td>\n",
              "      <td>0</td>\n",
              "      <td>0</td>\n",
              "      <td>0</td>\n",
              "      <td>0</td>\n",
              "      <td>0</td>\n",
              "      <td>0</td>\n",
              "      <td>0</td>\n",
              "      <td>0</td>\n",
              "      <td>0</td>\n",
              "      <td>0</td>\n",
              "      <td>0</td>\n",
              "      <td>0</td>\n",
              "      <td>0</td>\n",
              "      <td>0</td>\n",
              "      <td>0</td>\n",
              "      <td>0</td>\n",
              "      <td>0</td>\n",
              "      <td>0</td>\n",
              "      <td>0</td>\n",
              "      <td>0</td>\n",
              "      <td>0</td>\n",
              "      <td>0</td>\n",
              "      <td>0</td>\n",
              "      <td>0</td>\n",
              "      <td>...</td>\n",
              "      <td>0</td>\n",
              "      <td>0</td>\n",
              "      <td>0</td>\n",
              "      <td>0</td>\n",
              "      <td>0</td>\n",
              "      <td>0</td>\n",
              "      <td>0</td>\n",
              "      <td>0</td>\n",
              "      <td>0</td>\n",
              "      <td>0</td>\n",
              "      <td>0</td>\n",
              "      <td>0</td>\n",
              "      <td>0</td>\n",
              "      <td>0</td>\n",
              "      <td>0</td>\n",
              "      <td>0</td>\n",
              "      <td>0</td>\n",
              "      <td>0</td>\n",
              "      <td>0</td>\n",
              "      <td>0</td>\n",
              "      <td>0</td>\n",
              "      <td>0</td>\n",
              "      <td>0</td>\n",
              "      <td>0</td>\n",
              "      <td>0</td>\n",
              "      <td>0</td>\n",
              "      <td>0</td>\n",
              "      <td>0</td>\n",
              "      <td>0</td>\n",
              "      <td>0</td>\n",
              "      <td>0</td>\n",
              "      <td>0</td>\n",
              "      <td>0</td>\n",
              "      <td>0</td>\n",
              "      <td>0</td>\n",
              "      <td>0</td>\n",
              "      <td>0</td>\n",
              "      <td>0</td>\n",
              "      <td>0</td>\n",
              "      <td>0</td>\n",
              "    </tr>\n",
              "    <tr>\n",
              "      <th>2</th>\n",
              "      <td>1</td>\n",
              "      <td>0</td>\n",
              "      <td>0</td>\n",
              "      <td>0</td>\n",
              "      <td>0</td>\n",
              "      <td>0</td>\n",
              "      <td>0</td>\n",
              "      <td>0</td>\n",
              "      <td>0</td>\n",
              "      <td>0</td>\n",
              "      <td>0</td>\n",
              "      <td>0</td>\n",
              "      <td>0</td>\n",
              "      <td>0</td>\n",
              "      <td>0</td>\n",
              "      <td>0</td>\n",
              "      <td>0</td>\n",
              "      <td>0</td>\n",
              "      <td>0</td>\n",
              "      <td>0</td>\n",
              "      <td>0</td>\n",
              "      <td>0</td>\n",
              "      <td>0</td>\n",
              "      <td>0</td>\n",
              "      <td>0</td>\n",
              "      <td>0</td>\n",
              "      <td>0</td>\n",
              "      <td>0</td>\n",
              "      <td>0</td>\n",
              "      <td>0</td>\n",
              "      <td>0</td>\n",
              "      <td>0</td>\n",
              "      <td>0</td>\n",
              "      <td>0</td>\n",
              "      <td>0</td>\n",
              "      <td>0</td>\n",
              "      <td>0</td>\n",
              "      <td>0</td>\n",
              "      <td>0</td>\n",
              "      <td>0</td>\n",
              "      <td>...</td>\n",
              "      <td>0</td>\n",
              "      <td>0</td>\n",
              "      <td>0</td>\n",
              "      <td>0</td>\n",
              "      <td>0</td>\n",
              "      <td>0</td>\n",
              "      <td>0</td>\n",
              "      <td>0</td>\n",
              "      <td>0</td>\n",
              "      <td>0</td>\n",
              "      <td>0</td>\n",
              "      <td>0</td>\n",
              "      <td>0</td>\n",
              "      <td>0</td>\n",
              "      <td>0</td>\n",
              "      <td>0</td>\n",
              "      <td>0</td>\n",
              "      <td>0</td>\n",
              "      <td>0</td>\n",
              "      <td>0</td>\n",
              "      <td>0</td>\n",
              "      <td>0</td>\n",
              "      <td>0</td>\n",
              "      <td>0</td>\n",
              "      <td>0</td>\n",
              "      <td>0</td>\n",
              "      <td>0</td>\n",
              "      <td>0</td>\n",
              "      <td>0</td>\n",
              "      <td>0</td>\n",
              "      <td>0</td>\n",
              "      <td>0</td>\n",
              "      <td>0</td>\n",
              "      <td>0</td>\n",
              "      <td>0</td>\n",
              "      <td>0</td>\n",
              "      <td>0</td>\n",
              "      <td>0</td>\n",
              "      <td>0</td>\n",
              "      <td>0</td>\n",
              "    </tr>\n",
              "    <tr>\n",
              "      <th>3</th>\n",
              "      <td>4</td>\n",
              "      <td>0</td>\n",
              "      <td>0</td>\n",
              "      <td>0</td>\n",
              "      <td>0</td>\n",
              "      <td>0</td>\n",
              "      <td>0</td>\n",
              "      <td>0</td>\n",
              "      <td>0</td>\n",
              "      <td>0</td>\n",
              "      <td>0</td>\n",
              "      <td>0</td>\n",
              "      <td>0</td>\n",
              "      <td>0</td>\n",
              "      <td>0</td>\n",
              "      <td>0</td>\n",
              "      <td>0</td>\n",
              "      <td>0</td>\n",
              "      <td>0</td>\n",
              "      <td>0</td>\n",
              "      <td>0</td>\n",
              "      <td>0</td>\n",
              "      <td>0</td>\n",
              "      <td>0</td>\n",
              "      <td>0</td>\n",
              "      <td>0</td>\n",
              "      <td>0</td>\n",
              "      <td>0</td>\n",
              "      <td>0</td>\n",
              "      <td>0</td>\n",
              "      <td>0</td>\n",
              "      <td>0</td>\n",
              "      <td>0</td>\n",
              "      <td>0</td>\n",
              "      <td>0</td>\n",
              "      <td>0</td>\n",
              "      <td>0</td>\n",
              "      <td>0</td>\n",
              "      <td>0</td>\n",
              "      <td>0</td>\n",
              "      <td>...</td>\n",
              "      <td>0</td>\n",
              "      <td>0</td>\n",
              "      <td>0</td>\n",
              "      <td>0</td>\n",
              "      <td>0</td>\n",
              "      <td>0</td>\n",
              "      <td>0</td>\n",
              "      <td>0</td>\n",
              "      <td>0</td>\n",
              "      <td>0</td>\n",
              "      <td>0</td>\n",
              "      <td>0</td>\n",
              "      <td>0</td>\n",
              "      <td>0</td>\n",
              "      <td>0</td>\n",
              "      <td>0</td>\n",
              "      <td>0</td>\n",
              "      <td>0</td>\n",
              "      <td>0</td>\n",
              "      <td>0</td>\n",
              "      <td>0</td>\n",
              "      <td>0</td>\n",
              "      <td>0</td>\n",
              "      <td>0</td>\n",
              "      <td>0</td>\n",
              "      <td>0</td>\n",
              "      <td>0</td>\n",
              "      <td>0</td>\n",
              "      <td>0</td>\n",
              "      <td>0</td>\n",
              "      <td>0</td>\n",
              "      <td>0</td>\n",
              "      <td>0</td>\n",
              "      <td>0</td>\n",
              "      <td>0</td>\n",
              "      <td>0</td>\n",
              "      <td>0</td>\n",
              "      <td>0</td>\n",
              "      <td>0</td>\n",
              "      <td>0</td>\n",
              "    </tr>\n",
              "    <tr>\n",
              "      <th>4</th>\n",
              "      <td>0</td>\n",
              "      <td>0</td>\n",
              "      <td>0</td>\n",
              "      <td>0</td>\n",
              "      <td>0</td>\n",
              "      <td>0</td>\n",
              "      <td>0</td>\n",
              "      <td>0</td>\n",
              "      <td>0</td>\n",
              "      <td>0</td>\n",
              "      <td>0</td>\n",
              "      <td>0</td>\n",
              "      <td>0</td>\n",
              "      <td>0</td>\n",
              "      <td>0</td>\n",
              "      <td>0</td>\n",
              "      <td>0</td>\n",
              "      <td>0</td>\n",
              "      <td>0</td>\n",
              "      <td>0</td>\n",
              "      <td>0</td>\n",
              "      <td>0</td>\n",
              "      <td>0</td>\n",
              "      <td>0</td>\n",
              "      <td>0</td>\n",
              "      <td>0</td>\n",
              "      <td>0</td>\n",
              "      <td>0</td>\n",
              "      <td>0</td>\n",
              "      <td>0</td>\n",
              "      <td>0</td>\n",
              "      <td>0</td>\n",
              "      <td>0</td>\n",
              "      <td>0</td>\n",
              "      <td>0</td>\n",
              "      <td>0</td>\n",
              "      <td>0</td>\n",
              "      <td>0</td>\n",
              "      <td>0</td>\n",
              "      <td>0</td>\n",
              "      <td>...</td>\n",
              "      <td>0</td>\n",
              "      <td>0</td>\n",
              "      <td>0</td>\n",
              "      <td>0</td>\n",
              "      <td>0</td>\n",
              "      <td>0</td>\n",
              "      <td>0</td>\n",
              "      <td>0</td>\n",
              "      <td>0</td>\n",
              "      <td>0</td>\n",
              "      <td>0</td>\n",
              "      <td>0</td>\n",
              "      <td>0</td>\n",
              "      <td>0</td>\n",
              "      <td>0</td>\n",
              "      <td>0</td>\n",
              "      <td>0</td>\n",
              "      <td>0</td>\n",
              "      <td>0</td>\n",
              "      <td>0</td>\n",
              "      <td>0</td>\n",
              "      <td>0</td>\n",
              "      <td>0</td>\n",
              "      <td>0</td>\n",
              "      <td>0</td>\n",
              "      <td>0</td>\n",
              "      <td>0</td>\n",
              "      <td>0</td>\n",
              "      <td>0</td>\n",
              "      <td>0</td>\n",
              "      <td>0</td>\n",
              "      <td>0</td>\n",
              "      <td>0</td>\n",
              "      <td>0</td>\n",
              "      <td>0</td>\n",
              "      <td>0</td>\n",
              "      <td>0</td>\n",
              "      <td>0</td>\n",
              "      <td>0</td>\n",
              "      <td>0</td>\n",
              "    </tr>\n",
              "  </tbody>\n",
              "</table>\n",
              "<p>5 rows × 785 columns</p>\n",
              "</div>"
            ],
            "text/plain": [
              "   label  pixel0  pixel1  pixel2  ...  pixel780  pixel781  pixel782  pixel783\n",
              "0      1       0       0       0  ...         0         0         0         0\n",
              "1      0       0       0       0  ...         0         0         0         0\n",
              "2      1       0       0       0  ...         0         0         0         0\n",
              "3      4       0       0       0  ...         0         0         0         0\n",
              "4      0       0       0       0  ...         0         0         0         0\n",
              "\n",
              "[5 rows x 785 columns]"
            ]
          },
          "metadata": {},
          "execution_count": 240
        }
      ]
    },
    {
      "cell_type": "code",
      "metadata": {
        "colab": {
          "base_uri": "https://localhost:8080/"
        },
        "id": "vcfe9yVnS7eI",
        "outputId": "5d4de5a8-bbfb-4c59-9514-5d6fb292ca79"
      },
      "source": [
        "df_train.nunique()"
      ],
      "execution_count": null,
      "outputs": [
        {
          "output_type": "execute_result",
          "data": {
            "text/plain": [
              "label       10\n",
              "pixel0       1\n",
              "pixel1       1\n",
              "pixel2       1\n",
              "pixel3       1\n",
              "            ..\n",
              "pixel779     3\n",
              "pixel780     1\n",
              "pixel781     1\n",
              "pixel782     1\n",
              "pixel783     1\n",
              "Length: 785, dtype: int64"
            ]
          },
          "metadata": {},
          "execution_count": 241
        }
      ]
    },
    {
      "cell_type": "code",
      "metadata": {
        "colab": {
          "base_uri": "https://localhost:8080/"
        },
        "id": "Z8xTOapSTJzs",
        "outputId": "5c225561-5618-47a0-e364-b9d4c43c3c41"
      },
      "source": [
        "print(f\"Shape of Training Set: {df_train.shape}\\n\")\n",
        "print(f\"{df_train.info(null_counts=True)}\\n\")\n",
        "print(df_train.isna)"
      ],
      "execution_count": null,
      "outputs": [
        {
          "output_type": "stream",
          "name": "stdout",
          "text": [
            "Shape of Training Set: (42000, 785)\n",
            "\n",
            "<class 'pandas.core.frame.DataFrame'>\n",
            "RangeIndex: 42000 entries, 0 to 41999\n",
            "Columns: 785 entries, label to pixel783\n",
            "dtypes: int64(785)\n",
            "memory usage: 251.5 MB\n",
            "None\n",
            "\n",
            "<bound method DataFrame.isna of        label  pixel0  pixel1  pixel2  ...  pixel780  pixel781  pixel782  pixel783\n",
            "0          1       0       0       0  ...         0         0         0         0\n",
            "1          0       0       0       0  ...         0         0         0         0\n",
            "2          1       0       0       0  ...         0         0         0         0\n",
            "3          4       0       0       0  ...         0         0         0         0\n",
            "4          0       0       0       0  ...         0         0         0         0\n",
            "...      ...     ...     ...     ...  ...       ...       ...       ...       ...\n",
            "41995      0       0       0       0  ...         0         0         0         0\n",
            "41996      1       0       0       0  ...         0         0         0         0\n",
            "41997      7       0       0       0  ...         0         0         0         0\n",
            "41998      6       0       0       0  ...         0         0         0         0\n",
            "41999      9       0       0       0  ...         0         0         0         0\n",
            "\n",
            "[42000 rows x 785 columns]>\n"
          ]
        }
      ]
    },
    {
      "cell_type": "markdown",
      "metadata": {
        "id": "Z5zKgzVMUFQV"
      },
      "source": [
        "Given all this, we seem to have a significantly large training set with many clean, uniform training examples to train on. It is also clear that there are no NaN nor empty values, therefore making our data preprocessing lives much, much easier. Now, all there's left to do is to actually examine and visualize what a single training example looks like."
      ]
    },
    {
      "cell_type": "code",
      "metadata": {
        "colab": {
          "base_uri": "https://localhost:8080/",
          "height": 240
        },
        "id": "TTr-qepmYyDU",
        "outputId": "5b89028b-5bbb-41d4-e527-d02f3d457770"
      },
      "source": [
        "# Display a random selection of 20 digits from the training set\n",
        "\n",
        "indexes = np.random.randint(0, 42000, 20)\n",
        "images = df_train.iloc[indexes, :]\n",
        "\n",
        "labels = images[\"label\"].to_numpy()\n",
        "pixels = images.drop(columns=[\"label\"]).to_numpy()\n",
        "\n",
        "for i in range(20):\n",
        "  plt.subplot((20//8)+1, 8, i+1)\n",
        "  plot = pixels[i].reshape((28,28))\n",
        "  plt.imshow(plot, cmap=\"gray\")\n",
        "  plt.xticks([])\n",
        "  plt.yticks([])\n",
        "  plt.title(labels[i])\n",
        "\n",
        "plt.show()"
      ],
      "execution_count": null,
      "outputs": [
        {
          "output_type": "display_data",
          "data": {
            "image/png": "[encoded data removed]",
            "text/plain": [
              "<Figure size 432x288 with 20 Axes>"
            ]
          },
          "metadata": {}
        }
      ]
    },
    {
      "cell_type": "markdown",
      "metadata": {
        "id": "U8dXZoYVfuil"
      },
      "source": [
        "Exactly as expected, every single image is rather well-defined for the most part, with their pixel values resembling each digit precisely."
      ]
    },
    {
      "cell_type": "markdown",
      "metadata": {
        "id": "ikWVurztgCWB"
      },
      "source": [
        "**Train-Dev-Test Split**\n",
        "\n",
        "\n",
        "---\n",
        "In order to do this, we can simply split our training set twice; once for the dev set, and another for the test set. In order to make the most out of Tensorflow's architecture (along with the fact that this data set was loaded from kaggle rather than tensorflow itself), we must convert these sets into their respective tf.data.Dataset versions.\n"
      ]
    },
    {
      "cell_type": "code",
      "metadata": {
        "id": "nqJ4di1GgOkx"
      },
      "source": [
        "from sklearn.model_selection import train_test_split\n",
        "\n",
        "# Converts a pandas dataframe into a tensorflow dataset\n",
        "def convert_to_tfds(dataframe):\n",
        "  labels = dataframe.pop(\"label\")\n",
        "  dataframe = dataframe / 255\n",
        "  dataset = tf.data.Dataset.from_tensor_slices((dict(dataframe), labels))\n",
        "  dataset = dataset.shuffle(buffer_size=len(dataframe), seed=0)\n",
        "  return dataset.batch(64) # Ensures that the model is optimized with mini batch gd\n",
        "\n",
        "training_set = df_train.copy()\n",
        "\n",
        "# Split training set into dev and test sets respectively\n",
        "train, dev = train_test_split(training_set, test_size=0.1, random_state = 0)\n",
        "train, test = train_test_split(train, test_size = 0.1, random_state = 0)\n",
        "\n",
        "ds_train = convert_to_tfds(train)\n",
        "ds_dev = convert_to_tfds(dev)\n",
        "ds_test = convert_to_tfds(test)"
      ],
      "execution_count": null,
      "outputs": []
    },
    {
      "cell_type": "markdown",
      "metadata": {
        "id": "6N3YtjrDoaE8"
      },
      "source": [
        "**Model Implementation**"
      ]
    },
    {
      "cell_type": "code",
      "metadata": {
        "id": "p47TSiAUNwJw"
      },
      "source": [
        "# Store features in order to create input layer\n",
        "columns = list(training_set.columns)[1:]\n",
        "features = [tf.feature_column.numeric_column(feature) for feature in columns]\n",
        "\n",
        "# Define our feed-foward neural network architecture\n",
        "model = tf.keras.Sequential([\n",
        "    tf.keras.layers.DenseFeatures(features), # Input layer with 784 neurons for each pixel\n",
        "    tf.keras.layers.Dense(128, activation=\"relu\"), # 1st Hidden Layer with relu activation\n",
        "    tf.keras.layers.Dense(128, activation=\"relu\"), # 2nd Hidden Layer with relu activation\n",
        "    tf.keras.layers.Dense(10, activation=\"softmax\") # Output layer with 10 neurons (1 for each 0-9 digit)\n",
        "])\n",
        "\n",
        "model.compile(optimizer='adam',\n",
        "              loss='sparse_categorical_crossentropy',\n",
        "              metrics=['accuracy'])"
      ],
      "execution_count": null,
      "outputs": []
    },
    {
      "cell_type": "markdown",
      "metadata": {
        "id": "0C3G7_VVr0rJ"
      },
      "source": [
        "Experimenting with different optimizers such as RMSprop, SGD, etc., Adam appeared as to be the best in regards to convergence speed as well as overall average training time and resulting accuracy."
      ]
    },
    {
      "cell_type": "code",
      "metadata": {
        "colab": {
          "base_uri": "https://localhost:8080/"
        },
        "id": "xWUthgjRSbvD",
        "outputId": "9203272f-ec5e-4bf3-a4e1-d511585e246d"
      },
      "source": [
        "model.fit(ds_train, validation_data=ds_dev, epochs=4)"
      ],
      "execution_count": 247,
      "outputs": [
        {
          "output_type": "stream",
          "name": "stdout",
          "text": [
            "Epoch 1/4\n",
            "532/532 [==============================] - 56s 61ms/step - loss: 0.3393 - accuracy: 0.9023 - val_loss: 0.1893 - val_accuracy: 0.9450\n",
            "Epoch 2/4\n",
            "532/532 [==============================] - 30s 43ms/step - loss: 0.1371 - accuracy: 0.9587 - val_loss: 0.1468 - val_accuracy: 0.9564\n",
            "Epoch 3/4\n",
            "532/532 [==============================] - 31s 46ms/step - loss: 0.0944 - accuracy: 0.9712 - val_loss: 0.1289 - val_accuracy: 0.9631\n",
            "Epoch 4/4\n",
            "532/532 [==============================] - 32s 47ms/step - loss: 0.0716 - accuracy: 0.9781 - val_loss: 0.1185 - val_accuracy: 0.9657\n"
          ]
        },
        {
          "output_type": "execute_result",
          "data": {
            "text/plain": [
              "<keras.callbacks.History at 0x7fe347610b50>"
            ]
          },
          "metadata": {},
          "execution_count": 247
        }
      ]
    },
    {
      "cell_type": "markdown",
      "metadata": {
        "id": "eFKvDL410RIG"
      },
      "source": [
        "Note that Tensorflow's implementation of gradient descent (as above) is essentially Mini-Batch GD since we converted our train, dev, test sets to tensorflow datasets with batch size specified."
      ]
    },
    {
      "cell_type": "code",
      "metadata": {
        "id": "jJzc7IIscBjd",
        "colab": {
          "base_uri": "https://localhost:8080/"
        },
        "outputId": "b328d96e-7ac3-49a8-8f0e-d577b618d7fd"
      },
      "source": [
        "# Evaluating the model's performance\n",
        "test_loss, test_acc = model.evaluate(ds_test, verbose=1) \n",
        "\n",
        "print('Test loss:', test_loss)\n",
        "print('Test accuracy:', test_acc)"
      ],
      "execution_count": 248,
      "outputs": [
        {
          "output_type": "stream",
          "name": "stdout",
          "text": [
            "60/60 [==============================] - 3s 35ms/step - loss: 0.0904 - accuracy: 0.9751\n",
            "Test loss: 0.09037420153617859\n",
            "Test accuracy: 0.9751322865486145\n"
          ]
        }
      ]
    },
    {
      "cell_type": "markdown",
      "metadata": {
        "id": "jy8PjjR-saXH"
      },
      "source": [
        "Overall, Tensorflow proved to be quite a powerful tool/framework in regards to actually implementing this neural network as well as training and testing it, with an ultimate test set accuracy of **97.51** being achieved."
      ]
    },
    {
      "cell_type": "markdown",
      "metadata": {
        "id": "KryfGYVt_U2y"
      },
      "source": [
        "**Task 3 (15 points):** In task 2 describe how you selected the hyperparameters. What was the rationale behind the technique you used? Did you use regularization? Why, or why not? Did you use an optimization algorithm? Why or why not?"
      ]
    },
    {
      "cell_type": "markdown",
      "metadata": {
        "id": "1EB6b0ZMuuCb"
      },
      "source": [
        "Regarding the hyperparameters I chose, I began by simply testing out various combinations (batch_size: 32, 64, 128; epochs: 2, 4, 10; num_neurons: 32, 64, 128; etc.). Ultimately, I arrived at a relatively large batch-size that provided a fair convergence speed along with decent accuracy, a small epoch size to decrease the likelihood of overfitting, and 128 neurons so that our rather large input set could be properly handled and fitted accordingly. With this combination of hyperparameters, the model appeared to perform much more consistently with fairly high accuracy when attempting to generalize outside of the training set.\n",
        "\n",
        "The optimization algorithm I ultimately decided to utilize is Adam. Out of all the optimizers that I tested the model with, Adam provided the most consistent convergence, high accuracies, and greatly decreasing losses per epoch. Furthermore, some research into the various algorithms also confirmed my findings as there appears to wide-ranging support of Adam for many of the same reasons in visual learning.\n",
        "\n",
        "Given that the model still achieved fairly high accuracy outside of our training data ($\\geq .975$ accuracy) and the rather tedious care placed in tuning the hyperparameters, I didn't feel it necessary to implement regularization. However, I'm sure that implementing it could improve our model's ability to generalize even more, perhaps reaching as far as the $\\geq .99$ accuracy range."
      ]
    }
  ]
}