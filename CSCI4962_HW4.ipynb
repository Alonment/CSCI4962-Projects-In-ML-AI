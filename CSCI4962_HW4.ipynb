{
  "nbformat": 4,
  "nbformat_minor": 0,
  "metadata": {
    "colab": {
      "name": "CSCI4962_HW4.ipynb",
      "provenance": [],
      "collapsed_sections": [],
      "mount_file_id": "1US2J_CB-KNA0YrfLZyrbMJnxpjBfFeCI",
      "authorship_tag": "ABX9TyMi7waQk63frNtgaApK5w8p",
      "include_colab_link": true
    },
    "kernelspec": {
      "name": "python3",
      "display_name": "Python 3"
    },
    "language_info": {
      "name": "python"
    },
    "accelerator": "GPU"
  },
  "cells": [
    {
      "cell_type": "markdown",
      "metadata": {
        "id": "view-in-github",
        "colab_type": "text"
      },
      "source": [
        "<a href=\"https://colab.research.google.com/github/Alonment/CSCI4962-Projects-In-ML-AI/blob/main/CSCI4962_HW4.ipynb\" target=\"_parent\"><img src=\"https://colab.research.google.com/assets/colab-badge.svg\" alt=\"Open In Colab\"/></a>"
      ]
    },
    {
      "cell_type": "markdown",
      "metadata": {
        "id": "ZrZnhwp2HhRo"
      },
      "source": [
        "**Homework 4(100 points)**\n",
        "\n",
        "**Sequence Models**\n",
        "\n",
        "In your project, you will pick a dataset and an associated problem that can be solved via sequence models. You must describe why you need sequence models to solve this problem. Include a link to the dataset source. Next, you should pick an RNN framework that you would use to solve this problem (This framework can be in Tensorflow, PyTorch or any other Python package.)"
      ]
    },
    {
      "cell_type": "markdown",
      "metadata": {
        "id": "edkuMPO3tPgq"
      },
      "source": [
        "**Problem:** Predicting the sentiment of a tweet as either positive or negative.\n",
        "\n",
        "**Dataset:** https://www.kaggle.com/kazanova/sentiment140"
      ]
    },
    {
      "cell_type": "markdown",
      "metadata": {
        "id": "DONa6Lwa0oak"
      },
      "source": [
        "**EDA**"
      ]
    },
    {
      "cell_type": "code",
      "metadata": {
        "id": "k2JG6H4_yuag"
      },
      "source": [
        "# Importing libraries\n",
        "import numpy as np\n",
        "import tensorflow as tf\n",
        "import pandas as pd\n",
        "import matplotlib.pyplot as plt\n",
        "\n",
        "# Load dataset\n",
        "df = pd.read_csv(\"drive/MyDrive/csci4962_hw4.csv\", encoding = \"ISO-8859-1\")"
      ],
      "execution_count": 2,
      "outputs": []
    },
    {
      "cell_type": "code",
      "metadata": {
        "id": "tnKhIi570nRC",
        "colab": {
          "base_uri": "https://localhost:8080/",
          "height": 204
        },
        "outputId": "b1957120-a8f5-4695-ce76-93a25ca2a996"
      },
      "source": [
        "df.head()"
      ],
      "execution_count": 3,
      "outputs": [
        {
          "output_type": "execute_result",
          "data": {
            "text/html": [
              "<div>\n",
              "<style scoped>\n",
              "    .dataframe tbody tr th:only-of-type {\n",
              "        vertical-align: middle;\n",
              "    }\n",
              "\n",
              "    .dataframe tbody tr th {\n",
              "        vertical-align: top;\n",
              "    }\n",
              "\n",
              "    .dataframe thead th {\n",
              "        text-align: right;\n",
              "    }\n",
              "</style>\n",
              "<table border=\"1\" class=\"dataframe\">\n",
              "  <thead>\n",
              "    <tr style=\"text-align: right;\">\n",
              "      <th></th>\n",
              "      <th>0</th>\n",
              "      <th>1467810369</th>\n",
              "      <th>Mon Apr 06 22:19:45 PDT 2009</th>\n",
              "      <th>NO_QUERY</th>\n",
              "      <th>_TheSpecialOne_</th>\n",
              "      <th>@switchfoot http://twitpic.com/2y1zl - Awww, that's a bummer.  You shoulda got David Carr of Third Day to do it. ;D</th>\n",
              "    </tr>\n",
              "  </thead>\n",
              "  <tbody>\n",
              "    <tr>\n",
              "      <th>0</th>\n",
              "      <td>0</td>\n",
              "      <td>1467810672</td>\n",
              "      <td>Mon Apr 06 22:19:49 PDT 2009</td>\n",
              "      <td>NO_QUERY</td>\n",
              "      <td>scotthamilton</td>\n",
              "      <td>is upset that he can't update his Facebook by ...</td>\n",
              "    </tr>\n",
              "    <tr>\n",
              "      <th>1</th>\n",
              "      <td>0</td>\n",
              "      <td>1467810917</td>\n",
              "      <td>Mon Apr 06 22:19:53 PDT 2009</td>\n",
              "      <td>NO_QUERY</td>\n",
              "      <td>mattycus</td>\n",
              "      <td>@Kenichan I dived many times for the ball. Man...</td>\n",
              "    </tr>\n",
              "    <tr>\n",
              "      <th>2</th>\n",
              "      <td>0</td>\n",
              "      <td>1467811184</td>\n",
              "      <td>Mon Apr 06 22:19:57 PDT 2009</td>\n",
              "      <td>NO_QUERY</td>\n",
              "      <td>ElleCTF</td>\n",
              "      <td>my whole body feels itchy and like its on fire</td>\n",
              "    </tr>\n",
              "    <tr>\n",
              "      <th>3</th>\n",
              "      <td>0</td>\n",
              "      <td>1467811193</td>\n",
              "      <td>Mon Apr 06 22:19:57 PDT 2009</td>\n",
              "      <td>NO_QUERY</td>\n",
              "      <td>Karoli</td>\n",
              "      <td>@nationwideclass no, it's not behaving at all....</td>\n",
              "    </tr>\n",
              "    <tr>\n",
              "      <th>4</th>\n",
              "      <td>0</td>\n",
              "      <td>1467811372</td>\n",
              "      <td>Mon Apr 06 22:20:00 PDT 2009</td>\n",
              "      <td>NO_QUERY</td>\n",
              "      <td>joy_wolf</td>\n",
              "      <td>@Kwesidei not the whole crew</td>\n",
              "    </tr>\n",
              "  </tbody>\n",
              "</table>\n",
              "</div>"
            ],
            "text/plain": [
              "   0  ...  @switchfoot http://twitpic.com/2y1zl - Awww, that's a bummer.  You shoulda got David Carr of Third Day to do it. ;D\n",
              "0  0  ...  is upset that he can't update his Facebook by ...                                                                  \n",
              "1  0  ...  @Kenichan I dived many times for the ball. Man...                                                                  \n",
              "2  0  ...    my whole body feels itchy and like its on fire                                                                   \n",
              "3  0  ...  @nationwideclass no, it's not behaving at all....                                                                  \n",
              "4  0  ...                      @Kwesidei not the whole crew                                                                   \n",
              "\n",
              "[5 rows x 6 columns]"
            ]
          },
          "metadata": {},
          "execution_count": 3
        }
      ]
    },
    {
      "cell_type": "markdown",
      "metadata": {
        "id": "61HJUY4G1LGh"
      },
      "source": [
        "It appears that when loading the dataset, our columns are missing. Let us assign them manually based on what they are in Kaggle.\n"
      ]
    },
    {
      "cell_type": "code",
      "metadata": {
        "id": "OXvlU15o1Ptc",
        "colab": {
          "base_uri": "https://localhost:8080/",
          "height": 204
        },
        "outputId": "989c86de-8817-4e70-885f-2c0a47c422a6"
      },
      "source": [
        "df.columns = [\"target\", \"id\", \"date\", \"flag\", \"user\", \"text\"]\n",
        "df.head()"
      ],
      "execution_count": 4,
      "outputs": [
        {
          "output_type": "execute_result",
          "data": {
            "text/html": [
              "<div>\n",
              "<style scoped>\n",
              "    .dataframe tbody tr th:only-of-type {\n",
              "        vertical-align: middle;\n",
              "    }\n",
              "\n",
              "    .dataframe tbody tr th {\n",
              "        vertical-align: top;\n",
              "    }\n",
              "\n",
              "    .dataframe thead th {\n",
              "        text-align: right;\n",
              "    }\n",
              "</style>\n",
              "<table border=\"1\" class=\"dataframe\">\n",
              "  <thead>\n",
              "    <tr style=\"text-align: right;\">\n",
              "      <th></th>\n",
              "      <th>target</th>\n",
              "      <th>id</th>\n",
              "      <th>date</th>\n",
              "      <th>flag</th>\n",
              "      <th>user</th>\n",
              "      <th>text</th>\n",
              "    </tr>\n",
              "  </thead>\n",
              "  <tbody>\n",
              "    <tr>\n",
              "      <th>0</th>\n",
              "      <td>0</td>\n",
              "      <td>1467810672</td>\n",
              "      <td>Mon Apr 06 22:19:49 PDT 2009</td>\n",
              "      <td>NO_QUERY</td>\n",
              "      <td>scotthamilton</td>\n",
              "      <td>is upset that he can't update his Facebook by ...</td>\n",
              "    </tr>\n",
              "    <tr>\n",
              "      <th>1</th>\n",
              "      <td>0</td>\n",
              "      <td>1467810917</td>\n",
              "      <td>Mon Apr 06 22:19:53 PDT 2009</td>\n",
              "      <td>NO_QUERY</td>\n",
              "      <td>mattycus</td>\n",
              "      <td>@Kenichan I dived many times for the ball. Man...</td>\n",
              "    </tr>\n",
              "    <tr>\n",
              "      <th>2</th>\n",
              "      <td>0</td>\n",
              "      <td>1467811184</td>\n",
              "      <td>Mon Apr 06 22:19:57 PDT 2009</td>\n",
              "      <td>NO_QUERY</td>\n",
              "      <td>ElleCTF</td>\n",
              "      <td>my whole body feels itchy and like its on fire</td>\n",
              "    </tr>\n",
              "    <tr>\n",
              "      <th>3</th>\n",
              "      <td>0</td>\n",
              "      <td>1467811193</td>\n",
              "      <td>Mon Apr 06 22:19:57 PDT 2009</td>\n",
              "      <td>NO_QUERY</td>\n",
              "      <td>Karoli</td>\n",
              "      <td>@nationwideclass no, it's not behaving at all....</td>\n",
              "    </tr>\n",
              "    <tr>\n",
              "      <th>4</th>\n",
              "      <td>0</td>\n",
              "      <td>1467811372</td>\n",
              "      <td>Mon Apr 06 22:20:00 PDT 2009</td>\n",
              "      <td>NO_QUERY</td>\n",
              "      <td>joy_wolf</td>\n",
              "      <td>@Kwesidei not the whole crew</td>\n",
              "    </tr>\n",
              "  </tbody>\n",
              "</table>\n",
              "</div>"
            ],
            "text/plain": [
              "   target  ...                                               text\n",
              "0       0  ...  is upset that he can't update his Facebook by ...\n",
              "1       0  ...  @Kenichan I dived many times for the ball. Man...\n",
              "2       0  ...    my whole body feels itchy and like its on fire \n",
              "3       0  ...  @nationwideclass no, it's not behaving at all....\n",
              "4       0  ...                      @Kwesidei not the whole crew \n",
              "\n",
              "[5 rows x 6 columns]"
            ]
          },
          "metadata": {},
          "execution_count": 4
        }
      ]
    },
    {
      "cell_type": "code",
      "metadata": {
        "id": "lNxWob5H2IeI",
        "colab": {
          "base_uri": "https://localhost:8080/",
          "height": 419
        },
        "outputId": "177e010f-dc5a-4a22-9102-0440582bce96"
      },
      "source": [
        "df.isnull()"
      ],
      "execution_count": 5,
      "outputs": [
        {
          "output_type": "execute_result",
          "data": {
            "text/html": [
              "<div>\n",
              "<style scoped>\n",
              "    .dataframe tbody tr th:only-of-type {\n",
              "        vertical-align: middle;\n",
              "    }\n",
              "\n",
              "    .dataframe tbody tr th {\n",
              "        vertical-align: top;\n",
              "    }\n",
              "\n",
              "    .dataframe thead th {\n",
              "        text-align: right;\n",
              "    }\n",
              "</style>\n",
              "<table border=\"1\" class=\"dataframe\">\n",
              "  <thead>\n",
              "    <tr style=\"text-align: right;\">\n",
              "      <th></th>\n",
              "      <th>target</th>\n",
              "      <th>id</th>\n",
              "      <th>date</th>\n",
              "      <th>flag</th>\n",
              "      <th>user</th>\n",
              "      <th>text</th>\n",
              "    </tr>\n",
              "  </thead>\n",
              "  <tbody>\n",
              "    <tr>\n",
              "      <th>0</th>\n",
              "      <td>False</td>\n",
              "      <td>False</td>\n",
              "      <td>False</td>\n",
              "      <td>False</td>\n",
              "      <td>False</td>\n",
              "      <td>False</td>\n",
              "    </tr>\n",
              "    <tr>\n",
              "      <th>1</th>\n",
              "      <td>False</td>\n",
              "      <td>False</td>\n",
              "      <td>False</td>\n",
              "      <td>False</td>\n",
              "      <td>False</td>\n",
              "      <td>False</td>\n",
              "    </tr>\n",
              "    <tr>\n",
              "      <th>2</th>\n",
              "      <td>False</td>\n",
              "      <td>False</td>\n",
              "      <td>False</td>\n",
              "      <td>False</td>\n",
              "      <td>False</td>\n",
              "      <td>False</td>\n",
              "    </tr>\n",
              "    <tr>\n",
              "      <th>3</th>\n",
              "      <td>False</td>\n",
              "      <td>False</td>\n",
              "      <td>False</td>\n",
              "      <td>False</td>\n",
              "      <td>False</td>\n",
              "      <td>False</td>\n",
              "    </tr>\n",
              "    <tr>\n",
              "      <th>4</th>\n",
              "      <td>False</td>\n",
              "      <td>False</td>\n",
              "      <td>False</td>\n",
              "      <td>False</td>\n",
              "      <td>False</td>\n",
              "      <td>False</td>\n",
              "    </tr>\n",
              "    <tr>\n",
              "      <th>...</th>\n",
              "      <td>...</td>\n",
              "      <td>...</td>\n",
              "      <td>...</td>\n",
              "      <td>...</td>\n",
              "      <td>...</td>\n",
              "      <td>...</td>\n",
              "    </tr>\n",
              "    <tr>\n",
              "      <th>1599994</th>\n",
              "      <td>False</td>\n",
              "      <td>False</td>\n",
              "      <td>False</td>\n",
              "      <td>False</td>\n",
              "      <td>False</td>\n",
              "      <td>False</td>\n",
              "    </tr>\n",
              "    <tr>\n",
              "      <th>1599995</th>\n",
              "      <td>False</td>\n",
              "      <td>False</td>\n",
              "      <td>False</td>\n",
              "      <td>False</td>\n",
              "      <td>False</td>\n",
              "      <td>False</td>\n",
              "    </tr>\n",
              "    <tr>\n",
              "      <th>1599996</th>\n",
              "      <td>False</td>\n",
              "      <td>False</td>\n",
              "      <td>False</td>\n",
              "      <td>False</td>\n",
              "      <td>False</td>\n",
              "      <td>False</td>\n",
              "    </tr>\n",
              "    <tr>\n",
              "      <th>1599997</th>\n",
              "      <td>False</td>\n",
              "      <td>False</td>\n",
              "      <td>False</td>\n",
              "      <td>False</td>\n",
              "      <td>False</td>\n",
              "      <td>False</td>\n",
              "    </tr>\n",
              "    <tr>\n",
              "      <th>1599998</th>\n",
              "      <td>False</td>\n",
              "      <td>False</td>\n",
              "      <td>False</td>\n",
              "      <td>False</td>\n",
              "      <td>False</td>\n",
              "      <td>False</td>\n",
              "    </tr>\n",
              "  </tbody>\n",
              "</table>\n",
              "<p>1599999 rows × 6 columns</p>\n",
              "</div>"
            ],
            "text/plain": [
              "         target     id   date   flag   user   text\n",
              "0         False  False  False  False  False  False\n",
              "1         False  False  False  False  False  False\n",
              "2         False  False  False  False  False  False\n",
              "3         False  False  False  False  False  False\n",
              "4         False  False  False  False  False  False\n",
              "...         ...    ...    ...    ...    ...    ...\n",
              "1599994   False  False  False  False  False  False\n",
              "1599995   False  False  False  False  False  False\n",
              "1599996   False  False  False  False  False  False\n",
              "1599997   False  False  False  False  False  False\n",
              "1599998   False  False  False  False  False  False\n",
              "\n",
              "[1599999 rows x 6 columns]"
            ]
          },
          "metadata": {},
          "execution_count": 5
        }
      ]
    },
    {
      "cell_type": "markdown",
      "metadata": {
        "id": "ud6a9Ijf3u-H"
      },
      "source": [
        "It's clear that for our given problem statement, we simply do not care about id, date, flag, or the user as their values have no bearing on the sentiment of any given text. Thus, let us remove them."
      ]
    },
    {
      "cell_type": "code",
      "metadata": {
        "id": "lUfITGBh4TtW",
        "colab": {
          "base_uri": "https://localhost:8080/",
          "height": 419
        },
        "outputId": "479c66ea-0100-43fa-9394-725f8148d947"
      },
      "source": [
        "df = df.drop(columns = [\"id\", \"date\", \"flag\", \"user\"])\n",
        "df"
      ],
      "execution_count": 6,
      "outputs": [
        {
          "output_type": "execute_result",
          "data": {
            "text/html": [
              "<div>\n",
              "<style scoped>\n",
              "    .dataframe tbody tr th:only-of-type {\n",
              "        vertical-align: middle;\n",
              "    }\n",
              "\n",
              "    .dataframe tbody tr th {\n",
              "        vertical-align: top;\n",
              "    }\n",
              "\n",
              "    .dataframe thead th {\n",
              "        text-align: right;\n",
              "    }\n",
              "</style>\n",
              "<table border=\"1\" class=\"dataframe\">\n",
              "  <thead>\n",
              "    <tr style=\"text-align: right;\">\n",
              "      <th></th>\n",
              "      <th>target</th>\n",
              "      <th>text</th>\n",
              "    </tr>\n",
              "  </thead>\n",
              "  <tbody>\n",
              "    <tr>\n",
              "      <th>0</th>\n",
              "      <td>0</td>\n",
              "      <td>is upset that he can't update his Facebook by ...</td>\n",
              "    </tr>\n",
              "    <tr>\n",
              "      <th>1</th>\n",
              "      <td>0</td>\n",
              "      <td>@Kenichan I dived many times for the ball. Man...</td>\n",
              "    </tr>\n",
              "    <tr>\n",
              "      <th>2</th>\n",
              "      <td>0</td>\n",
              "      <td>my whole body feels itchy and like its on fire</td>\n",
              "    </tr>\n",
              "    <tr>\n",
              "      <th>3</th>\n",
              "      <td>0</td>\n",
              "      <td>@nationwideclass no, it's not behaving at all....</td>\n",
              "    </tr>\n",
              "    <tr>\n",
              "      <th>4</th>\n",
              "      <td>0</td>\n",
              "      <td>@Kwesidei not the whole crew</td>\n",
              "    </tr>\n",
              "    <tr>\n",
              "      <th>...</th>\n",
              "      <td>...</td>\n",
              "      <td>...</td>\n",
              "    </tr>\n",
              "    <tr>\n",
              "      <th>1599994</th>\n",
              "      <td>4</td>\n",
              "      <td>Just woke up. Having no school is the best fee...</td>\n",
              "    </tr>\n",
              "    <tr>\n",
              "      <th>1599995</th>\n",
              "      <td>4</td>\n",
              "      <td>TheWDB.com - Very cool to hear old Walt interv...</td>\n",
              "    </tr>\n",
              "    <tr>\n",
              "      <th>1599996</th>\n",
              "      <td>4</td>\n",
              "      <td>Are you ready for your MoJo Makeover? Ask me f...</td>\n",
              "    </tr>\n",
              "    <tr>\n",
              "      <th>1599997</th>\n",
              "      <td>4</td>\n",
              "      <td>Happy 38th Birthday to my boo of alll time!!! ...</td>\n",
              "    </tr>\n",
              "    <tr>\n",
              "      <th>1599998</th>\n",
              "      <td>4</td>\n",
              "      <td>happy #charitytuesday @theNSPCC @SparksCharity...</td>\n",
              "    </tr>\n",
              "  </tbody>\n",
              "</table>\n",
              "<p>1599999 rows × 2 columns</p>\n",
              "</div>"
            ],
            "text/plain": [
              "         target                                               text\n",
              "0             0  is upset that he can't update his Facebook by ...\n",
              "1             0  @Kenichan I dived many times for the ball. Man...\n",
              "2             0    my whole body feels itchy and like its on fire \n",
              "3             0  @nationwideclass no, it's not behaving at all....\n",
              "4             0                      @Kwesidei not the whole crew \n",
              "...         ...                                                ...\n",
              "1599994       4  Just woke up. Having no school is the best fee...\n",
              "1599995       4  TheWDB.com - Very cool to hear old Walt interv...\n",
              "1599996       4  Are you ready for your MoJo Makeover? Ask me f...\n",
              "1599997       4  Happy 38th Birthday to my boo of alll time!!! ...\n",
              "1599998       4  happy #charitytuesday @theNSPCC @SparksCharity...\n",
              "\n",
              "[1599999 rows x 2 columns]"
            ]
          },
          "metadata": {},
          "execution_count": 6
        }
      ]
    },
    {
      "cell_type": "markdown",
      "metadata": {
        "id": "TTermBat5Wv7"
      },
      "source": [
        "According to the dataset provider, the target value corresponds to the following sentiments: 0 -> negative, 2 -> neutral, 4 -> positive. Let us see if we can normalize these values in any way."
      ]
    },
    {
      "cell_type": "code",
      "metadata": {
        "id": "VyYx4XaJ6mk4",
        "colab": {
          "base_uri": "https://localhost:8080/",
          "height": 419
        },
        "outputId": "244e59a4-dc79-486e-d3eb-1dcc542db2b8"
      },
      "source": [
        "df[df[\"target\"] == 0]"
      ],
      "execution_count": 7,
      "outputs": [
        {
          "output_type": "execute_result",
          "data": {
            "text/html": [
              "<div>\n",
              "<style scoped>\n",
              "    .dataframe tbody tr th:only-of-type {\n",
              "        vertical-align: middle;\n",
              "    }\n",
              "\n",
              "    .dataframe tbody tr th {\n",
              "        vertical-align: top;\n",
              "    }\n",
              "\n",
              "    .dataframe thead th {\n",
              "        text-align: right;\n",
              "    }\n",
              "</style>\n",
              "<table border=\"1\" class=\"dataframe\">\n",
              "  <thead>\n",
              "    <tr style=\"text-align: right;\">\n",
              "      <th></th>\n",
              "      <th>target</th>\n",
              "      <th>text</th>\n",
              "    </tr>\n",
              "  </thead>\n",
              "  <tbody>\n",
              "    <tr>\n",
              "      <th>0</th>\n",
              "      <td>0</td>\n",
              "      <td>is upset that he can't update his Facebook by ...</td>\n",
              "    </tr>\n",
              "    <tr>\n",
              "      <th>1</th>\n",
              "      <td>0</td>\n",
              "      <td>@Kenichan I dived many times for the ball. Man...</td>\n",
              "    </tr>\n",
              "    <tr>\n",
              "      <th>2</th>\n",
              "      <td>0</td>\n",
              "      <td>my whole body feels itchy and like its on fire</td>\n",
              "    </tr>\n",
              "    <tr>\n",
              "      <th>3</th>\n",
              "      <td>0</td>\n",
              "      <td>@nationwideclass no, it's not behaving at all....</td>\n",
              "    </tr>\n",
              "    <tr>\n",
              "      <th>4</th>\n",
              "      <td>0</td>\n",
              "      <td>@Kwesidei not the whole crew</td>\n",
              "    </tr>\n",
              "    <tr>\n",
              "      <th>...</th>\n",
              "      <td>...</td>\n",
              "      <td>...</td>\n",
              "    </tr>\n",
              "    <tr>\n",
              "      <th>799994</th>\n",
              "      <td>0</td>\n",
              "      <td>Sick  Spending my day laying in bed listening ...</td>\n",
              "    </tr>\n",
              "    <tr>\n",
              "      <th>799995</th>\n",
              "      <td>0</td>\n",
              "      <td>Gmail is down?</td>\n",
              "    </tr>\n",
              "    <tr>\n",
              "      <th>799996</th>\n",
              "      <td>0</td>\n",
              "      <td>rest in peace Farrah! So sad</td>\n",
              "    </tr>\n",
              "    <tr>\n",
              "      <th>799997</th>\n",
              "      <td>0</td>\n",
              "      <td>@Eric_Urbane Sounds like a rival is flagging y...</td>\n",
              "    </tr>\n",
              "    <tr>\n",
              "      <th>799998</th>\n",
              "      <td>0</td>\n",
              "      <td>has to resit exams over summer...  wishes he w...</td>\n",
              "    </tr>\n",
              "  </tbody>\n",
              "</table>\n",
              "<p>799999 rows × 2 columns</p>\n",
              "</div>"
            ],
            "text/plain": [
              "        target                                               text\n",
              "0            0  is upset that he can't update his Facebook by ...\n",
              "1            0  @Kenichan I dived many times for the ball. Man...\n",
              "2            0    my whole body feels itchy and like its on fire \n",
              "3            0  @nationwideclass no, it's not behaving at all....\n",
              "4            0                      @Kwesidei not the whole crew \n",
              "...        ...                                                ...\n",
              "799994       0  Sick  Spending my day laying in bed listening ...\n",
              "799995       0                                    Gmail is down? \n",
              "799996       0                      rest in peace Farrah! So sad \n",
              "799997       0  @Eric_Urbane Sounds like a rival is flagging y...\n",
              "799998       0  has to resit exams over summer...  wishes he w...\n",
              "\n",
              "[799999 rows x 2 columns]"
            ]
          },
          "metadata": {},
          "execution_count": 7
        }
      ]
    },
    {
      "cell_type": "code",
      "metadata": {
        "id": "8GTuGfTZ6wWY",
        "colab": {
          "base_uri": "https://localhost:8080/",
          "height": 49
        },
        "outputId": "47957c8e-9b0f-4d58-a27b-d2ed65d2acd5"
      },
      "source": [
        "df[df[\"target\"] == 2]"
      ],
      "execution_count": 8,
      "outputs": [
        {
          "output_type": "execute_result",
          "data": {
            "text/html": [
              "<div>\n",
              "<style scoped>\n",
              "    .dataframe tbody tr th:only-of-type {\n",
              "        vertical-align: middle;\n",
              "    }\n",
              "\n",
              "    .dataframe tbody tr th {\n",
              "        vertical-align: top;\n",
              "    }\n",
              "\n",
              "    .dataframe thead th {\n",
              "        text-align: right;\n",
              "    }\n",
              "</style>\n",
              "<table border=\"1\" class=\"dataframe\">\n",
              "  <thead>\n",
              "    <tr style=\"text-align: right;\">\n",
              "      <th></th>\n",
              "      <th>target</th>\n",
              "      <th>text</th>\n",
              "    </tr>\n",
              "  </thead>\n",
              "  <tbody>\n",
              "  </tbody>\n",
              "</table>\n",
              "</div>"
            ],
            "text/plain": [
              "Empty DataFrame\n",
              "Columns: [target, text]\n",
              "Index: []"
            ]
          },
          "metadata": {},
          "execution_count": 8
        }
      ]
    },
    {
      "cell_type": "code",
      "metadata": {
        "id": "8VJKVGHc6vTB",
        "colab": {
          "base_uri": "https://localhost:8080/",
          "height": 419
        },
        "outputId": "759f13c3-b851-416c-8988-880c863a4612"
      },
      "source": [
        "df[df[\"target\"] == 4]"
      ],
      "execution_count": 9,
      "outputs": [
        {
          "output_type": "execute_result",
          "data": {
            "text/html": [
              "<div>\n",
              "<style scoped>\n",
              "    .dataframe tbody tr th:only-of-type {\n",
              "        vertical-align: middle;\n",
              "    }\n",
              "\n",
              "    .dataframe tbody tr th {\n",
              "        vertical-align: top;\n",
              "    }\n",
              "\n",
              "    .dataframe thead th {\n",
              "        text-align: right;\n",
              "    }\n",
              "</style>\n",
              "<table border=\"1\" class=\"dataframe\">\n",
              "  <thead>\n",
              "    <tr style=\"text-align: right;\">\n",
              "      <th></th>\n",
              "      <th>target</th>\n",
              "      <th>text</th>\n",
              "    </tr>\n",
              "  </thead>\n",
              "  <tbody>\n",
              "    <tr>\n",
              "      <th>799999</th>\n",
              "      <td>4</td>\n",
              "      <td>I LOVE @Health4UandPets u guys r the best!!</td>\n",
              "    </tr>\n",
              "    <tr>\n",
              "      <th>800000</th>\n",
              "      <td>4</td>\n",
              "      <td>im meeting up with one of my besties tonight! ...</td>\n",
              "    </tr>\n",
              "    <tr>\n",
              "      <th>800001</th>\n",
              "      <td>4</td>\n",
              "      <td>@DaRealSunisaKim Thanks for the Twitter add, S...</td>\n",
              "    </tr>\n",
              "    <tr>\n",
              "      <th>800002</th>\n",
              "      <td>4</td>\n",
              "      <td>Being sick can be really cheap when it hurts t...</td>\n",
              "    </tr>\n",
              "    <tr>\n",
              "      <th>800003</th>\n",
              "      <td>4</td>\n",
              "      <td>@LovesBrooklyn2 he has that effect on everyone</td>\n",
              "    </tr>\n",
              "    <tr>\n",
              "      <th>...</th>\n",
              "      <td>...</td>\n",
              "      <td>...</td>\n",
              "    </tr>\n",
              "    <tr>\n",
              "      <th>1599994</th>\n",
              "      <td>4</td>\n",
              "      <td>Just woke up. Having no school is the best fee...</td>\n",
              "    </tr>\n",
              "    <tr>\n",
              "      <th>1599995</th>\n",
              "      <td>4</td>\n",
              "      <td>TheWDB.com - Very cool to hear old Walt interv...</td>\n",
              "    </tr>\n",
              "    <tr>\n",
              "      <th>1599996</th>\n",
              "      <td>4</td>\n",
              "      <td>Are you ready for your MoJo Makeover? Ask me f...</td>\n",
              "    </tr>\n",
              "    <tr>\n",
              "      <th>1599997</th>\n",
              "      <td>4</td>\n",
              "      <td>Happy 38th Birthday to my boo of alll time!!! ...</td>\n",
              "    </tr>\n",
              "    <tr>\n",
              "      <th>1599998</th>\n",
              "      <td>4</td>\n",
              "      <td>happy #charitytuesday @theNSPCC @SparksCharity...</td>\n",
              "    </tr>\n",
              "  </tbody>\n",
              "</table>\n",
              "<p>800000 rows × 2 columns</p>\n",
              "</div>"
            ],
            "text/plain": [
              "         target                                               text\n",
              "799999        4       I LOVE @Health4UandPets u guys r the best!! \n",
              "800000        4  im meeting up with one of my besties tonight! ...\n",
              "800001        4  @DaRealSunisaKim Thanks for the Twitter add, S...\n",
              "800002        4  Being sick can be really cheap when it hurts t...\n",
              "800003        4    @LovesBrooklyn2 he has that effect on everyone \n",
              "...         ...                                                ...\n",
              "1599994       4  Just woke up. Having no school is the best fee...\n",
              "1599995       4  TheWDB.com - Very cool to hear old Walt interv...\n",
              "1599996       4  Are you ready for your MoJo Makeover? Ask me f...\n",
              "1599997       4  Happy 38th Birthday to my boo of alll time!!! ...\n",
              "1599998       4  happy #charitytuesday @theNSPCC @SparksCharity...\n",
              "\n",
              "[800000 rows x 2 columns]"
            ]
          },
          "metadata": {},
          "execution_count": 9
        }
      ]
    },
    {
      "cell_type": "markdown",
      "metadata": {
        "id": "Ksl15pwj60qP"
      },
      "source": [
        "It seems that the dataset is already evenly split based on negative and positive tweets with no neutral tweets even existing. Thus, let us change our target values to be 0 when the tweet is negative and 1 when the tweet is positive. Also, note that the encoder provided by tensorflow already lowers and strips punctuation from any input text, thus leaving us less work to do on the preprocessing side."
      ]
    },
    {
      "cell_type": "markdown",
      "metadata": {
        "id": "riceCa4ezHWZ"
      },
      "source": [
        "Other than normalizing the labels, let us also remove any occurences of \"@\" (mentions) or \"#\" (hashtags) in tweets as often enough, they don't provide much insight into the sentiment behind any given tweet."
      ]
    },
    {
      "cell_type": "code",
      "metadata": {
        "id": "TAFDg9Eg7FDR",
        "colab": {
          "base_uri": "https://localhost:8080/",
          "height": 204
        },
        "outputId": "9e8d3530-6528-4629-d209-c9f95eec977b"
      },
      "source": [
        "df[\"target\"] = df[\"target\"].replace(4, 1)\n",
        "\n",
        "def removeMentionsAndHashtags(text: str):\n",
        "  return \" \".join([word for word in str(text).split() if \"@\" not in word and \"#\" not in word])\n",
        "\n",
        "df[\"text\"] = df[\"text\"].apply(lambda text: removeMentionsAndHashtags(text))\n",
        "df.head()"
      ],
      "execution_count": 10,
      "outputs": [
        {
          "output_type": "execute_result",
          "data": {
            "text/html": [
              "<div>\n",
              "<style scoped>\n",
              "    .dataframe tbody tr th:only-of-type {\n",
              "        vertical-align: middle;\n",
              "    }\n",
              "\n",
              "    .dataframe tbody tr th {\n",
              "        vertical-align: top;\n",
              "    }\n",
              "\n",
              "    .dataframe thead th {\n",
              "        text-align: right;\n",
              "    }\n",
              "</style>\n",
              "<table border=\"1\" class=\"dataframe\">\n",
              "  <thead>\n",
              "    <tr style=\"text-align: right;\">\n",
              "      <th></th>\n",
              "      <th>target</th>\n",
              "      <th>text</th>\n",
              "    </tr>\n",
              "  </thead>\n",
              "  <tbody>\n",
              "    <tr>\n",
              "      <th>0</th>\n",
              "      <td>0</td>\n",
              "      <td>is upset that he can't update his Facebook by ...</td>\n",
              "    </tr>\n",
              "    <tr>\n",
              "      <th>1</th>\n",
              "      <td>0</td>\n",
              "      <td>I dived many times for the ball. Managed to sa...</td>\n",
              "    </tr>\n",
              "    <tr>\n",
              "      <th>2</th>\n",
              "      <td>0</td>\n",
              "      <td>my whole body feels itchy and like its on fire</td>\n",
              "    </tr>\n",
              "    <tr>\n",
              "      <th>3</th>\n",
              "      <td>0</td>\n",
              "      <td>no, it's not behaving at all. i'm mad. why am ...</td>\n",
              "    </tr>\n",
              "    <tr>\n",
              "      <th>4</th>\n",
              "      <td>0</td>\n",
              "      <td>not the whole crew</td>\n",
              "    </tr>\n",
              "  </tbody>\n",
              "</table>\n",
              "</div>"
            ],
            "text/plain": [
              "   target                                               text\n",
              "0       0  is upset that he can't update his Facebook by ...\n",
              "1       0  I dived many times for the ball. Managed to sa...\n",
              "2       0     my whole body feels itchy and like its on fire\n",
              "3       0  no, it's not behaving at all. i'm mad. why am ...\n",
              "4       0                                 not the whole crew"
            ]
          },
          "metadata": {},
          "execution_count": 10
        }
      ]
    },
    {
      "cell_type": "markdown",
      "metadata": {
        "id": "HLeaYXmX9qbB"
      },
      "source": [
        "Now, let us split our data into train, validation, and test sets respectively."
      ]
    },
    {
      "cell_type": "code",
      "metadata": {
        "id": "Lbi7SPkH95gI"
      },
      "source": [
        "from sklearn.model_selection import train_test_split\n",
        "\n",
        "# Converts a pandas dataframe into a tensorflow dataset\n",
        "def convert_to_tfds(dataframe):\n",
        "\n",
        "  dataset = tf.data.Dataset.from_tensor_slices((dataframe['text'], dataframe['target']))\n",
        "  dataset = dataset.shuffle(buffer_size=len(dataframe), seed=0)\n",
        "  return dataset.batch(512).prefetch(tf.data.AUTOTUNE)\n",
        "\n",
        "training_set = df.copy()\n",
        "\n",
        "# Split training set into dev and test sets respectively\n",
        "train, dev = train_test_split(training_set, test_size=0.1, random_state = 0)\n",
        "train, test = train_test_split(train, test_size = 0.1, random_state = 0)\n",
        "\n",
        "ds_train = convert_to_tfds(train)\n",
        "ds_dev = convert_to_tfds(dev)\n",
        "ds_test = convert_to_tfds(test)"
      ],
      "execution_count": 11,
      "outputs": []
    },
    {
      "cell_type": "markdown",
      "metadata": {
        "id": "wEGSFo5hHw5j"
      },
      "source": [
        "**Task 1(60 points)**\n",
        "\n",
        "> **Part 1(35 points):** Implement your RNN either using an existing framework OR you can implement your own RNN cell structure. In either case, describe the structure of your RNN and the activation functions you are using for each time step and in the output layer. Define a metric you will use to measure the performance of your model(NOTE: Performance should be measured both for the validation set and the test set).\n",
        "\n",
        "\n",
        "> **Part 2(25 points):** Update your network from part 1 with either an LSTM or a GRU based cell structure. Re-do the training and performance evaluation. What are the major differences you notice? Why do you think those differences exist between the 2 implementations?\n",
        "\n",
        "\n",
        "\n",
        "\n",
        "\n"
      ]
    },
    {
      "cell_type": "markdown",
      "metadata": {
        "id": "7qyZqWyy_iSW"
      },
      "source": [
        "**PART 1**"
      ]
    },
    {
      "cell_type": "markdown",
      "metadata": {
        "id": "TAQHf0rWYz0F"
      },
      "source": [
        "Creating our vocabulary and text vectorization layer based off of our training set."
      ]
    },
    {
      "cell_type": "code",
      "metadata": {
        "id": "BRH00YBs_lCS"
      },
      "source": [
        "# Encoder declaration\n",
        "\n",
        "encoder = tf.keras.layers.TextVectorization()\n",
        "encoder.adapt(ds_train.map(lambda text, label: text))"
      ],
      "execution_count": 12,
      "outputs": []
    },
    {
      "cell_type": "code",
      "metadata": {
        "colab": {
          "base_uri": "https://localhost:8080/"
        },
        "id": "_-LzQ_Iz-mmI",
        "outputId": "abc9b797-2036-4910-bff9-5cdd6dc01559"
      },
      "source": [
        "# Let's see how large of a vocabulary we're working with\n",
        "\n",
        "len(encoder.get_vocabulary())"
      ],
      "execution_count": 13,
      "outputs": [
        {
          "output_type": "execute_result",
          "data": {
            "text/plain": [
              "436408"
            ]
          },
          "metadata": {},
          "execution_count": 13
        }
      ]
    },
    {
      "cell_type": "markdown",
      "metadata": {
        "id": "ZKlNjYmLYuvz"
      },
      "source": [
        "**Model Architecture**\n",
        "\n",
        "I decided to closely follow the architecture provided in https://www.tensorflow.org/text/tutorials/text_classification_rnn#setup since it was rather simple and easy to follow as well as fufilled the task at hand.\n",
        "\n",
        "Order of Layers: TextVectorization -> Embedding -> Bidirectional (SimpleRNN) -> Dense -> Dense\n",
        "\n",
        "All words are converted into sequences of token indices that are read in to the embedding layer and transformed into a trainable vectors representing that specific word. The Bidirectional RNN layer simply reads the encoded words and propagates it forwards and backwards, concatenating the final output and sending to the final two dense layers which finalize the classification."
      ]
    },
    {
      "cell_type": "code",
      "metadata": {
        "id": "jAkhrQtXidjx"
      },
      "source": [
        "# Model Implementation\n",
        "\n",
        "model = tf.keras.Sequential([\n",
        "        encoder, # Text Vectorization Layer\n",
        "        tf.keras.layers.Embedding( \n",
        "            input_dim = len(encoder.get_vocabulary()),\n",
        "            output_dim = 64,\n",
        "            # Masking handles variable length tweets\n",
        "            mask_zero = True\n",
        "        ),\n",
        "        tf.keras.layers.Bidirectional(tf.keras.layers.SimpleRNN(64, activation='relu')),\n",
        "        tf.keras.layers.Dense(64, activation='relu'), \n",
        "        tf.keras.layers.Dense(1) # Classification layer\n",
        "])"
      ],
      "execution_count": 14,
      "outputs": []
    },
    {
      "cell_type": "code",
      "metadata": {
        "id": "__CyKxNvjpi2"
      },
      "source": [
        "model.compile(loss=tf.keras.losses.BinaryCrossentropy(from_logits=True),\n",
        "              optimizer=tf.keras.optimizers.Adam(1e-4),\n",
        "              metrics=['accuracy'])"
      ],
      "execution_count": 15,
      "outputs": []
    },
    {
      "cell_type": "code",
      "metadata": {
        "colab": {
          "base_uri": "https://localhost:8080/"
        },
        "id": "ZV0KRMSSjrdG",
        "outputId": "d9a81ad9-1b56-48a1-d470-22b6c37adc1c"
      },
      "source": [
        "history = model.fit(ds_train, epochs=2,\n",
        "                    validation_data=ds_dev,\n",
        "                    validation_steps = 30)"
      ],
      "execution_count": 17,
      "outputs": [
        {
          "output_type": "stream",
          "name": "stdout",
          "text": [
            "Epoch 1/2\n",
            "2532/2532 [==============================] - 485s 191ms/step - loss: 0.4577 - accuracy: 0.7673 - val_loss: 0.4173 - val_accuracy: 0.8039\n",
            "Epoch 2/2\n",
            "2532/2532 [==============================] - 484s 191ms/step - loss: 0.3882 - accuracy: 0.8168 - val_loss: 0.4110 - val_accuracy: 0.7960\n"
          ]
        }
      ]
    },
    {
      "cell_type": "code",
      "metadata": {
        "id": "z9y4lHbl1eKc",
        "colab": {
          "base_uri": "https://localhost:8080/"
        },
        "outputId": "62c03856-b593-432a-f83f-df4d4fbc9870"
      },
      "source": [
        "# Model evaluation\n",
        "\n",
        "loss, accuracy = model.evaluate(ds_test)\n",
        "\n",
        "print(f\"Loss: {loss}, Accuracy: {accuracy}\")\n"
      ],
      "execution_count": 18,
      "outputs": [
        {
          "output_type": "stream",
          "name": "stdout",
          "text": [
            "282/282 [==============================] - 5s 18ms/step - loss: 0.4117 - accuracy: 0.8011\n",
            "Loss: 0.41170719265937805, Accuracy: 0.8011319637298584\n"
          ]
        }
      ]
    },
    {
      "cell_type": "markdown",
      "metadata": {
        "id": "q1pZcyhOYsFx"
      },
      "source": [
        "The activation function used at each timestep as well as at the output layers was ReLU. It seemed to perform better both in terms of speed and convergence than that of tanh. The metric used to evaluate is that of accuracy, with the actual accuracy of the model turning out to be somewhat decent. Given that the model was only trained for two epochs, the accuracy could very well increase given more time, however a single epoch did prove to be computationally expensive and took a substantial amount of time. The validation and test accuracy are slightly lower than that of training accuracy and could therefore indicate some overfitting occurring. "
      ]
    },
    {
      "cell_type": "markdown",
      "metadata": {
        "id": "NbL7dpEm3Rdp"
      },
      "source": [
        "**PART II**"
      ]
    },
    {
      "cell_type": "code",
      "metadata": {
        "id": "5U3LpYOK3TQe",
        "colab": {
          "base_uri": "https://localhost:8080/"
        },
        "outputId": "f4bd4d3f-c144-41e1-a42f-372535f25eea"
      },
      "source": [
        "# Model Implementation with LSTM cells\n",
        "\n",
        "model = tf.keras.Sequential([\n",
        "        encoder, # Text Vectorization Layer\n",
        "        tf.keras.layers.Embedding( \n",
        "            input_dim = len(encoder.get_vocabulary()),\n",
        "            output_dim = 64,\n",
        "            # Masking handles variable length tweets\n",
        "            mask_zero = True\n",
        "        ),\n",
        "        tf.keras.layers.Bidirectional(tf.keras.layers.LSTM(64, activation='relu')),\n",
        "        tf.keras.layers.Dense(64, activation='relu'), \n",
        "        tf.keras.layers.Dense(1) # Classification layer\n",
        "])\n",
        "\n",
        "model.compile(loss=tf.keras.losses.BinaryCrossentropy(from_logits=True),\n",
        "              optimizer=tf.keras.optimizers.Adam(1e-4),\n",
        "              metrics=['accuracy'])"
      ],
      "execution_count": 19,
      "outputs": [
        {
          "output_type": "stream",
          "name": "stdout",
          "text": [
            "WARNING:tensorflow:Layer lstm will not use cuDNN kernels since it doesn't meet the criteria. It will use a generic GPU kernel as fallback when running on GPU.\n",
            "WARNING:tensorflow:Layer lstm will not use cuDNN kernels since it doesn't meet the criteria. It will use a generic GPU kernel as fallback when running on GPU.\n",
            "WARNING:tensorflow:Layer lstm will not use cuDNN kernels since it doesn't meet the criteria. It will use a generic GPU kernel as fallback when running on GPU.\n"
          ]
        }
      ]
    },
    {
      "cell_type": "code",
      "metadata": {
        "id": "X8zKTapY4PUu",
        "colab": {
          "base_uri": "https://localhost:8080/"
        },
        "outputId": "3be2444d-e29b-4726-b9c8-2df1ed92d519"
      },
      "source": [
        "history = model.fit(ds_train, epochs=2,\n",
        "                    validation_data=ds_dev,\n",
        "                    validation_steps = 30)"
      ],
      "execution_count": 20,
      "outputs": [
        {
          "output_type": "stream",
          "name": "stdout",
          "text": [
            "Epoch 1/2\n",
            "2532/2532 [==============================] - 813s 319ms/step - loss: 0.4730 - accuracy: 0.7544 - val_loss: 0.4234 - val_accuracy: 0.8013\n",
            "Epoch 2/2\n",
            "2532/2532 [==============================] - 806s 318ms/step - loss: 0.4048 - accuracy: 0.8099 - val_loss: 0.4284 - val_accuracy: 0.7911\n"
          ]
        }
      ]
    },
    {
      "cell_type": "code",
      "metadata": {
        "colab": {
          "base_uri": "https://localhost:8080/"
        },
        "id": "BM6rsA8oTsaW",
        "outputId": "12f8703d-8fbc-47e9-9cb6-a0b7d3d12420"
      },
      "source": [
        "# Model evaluation\n",
        "\n",
        "loss, accuracy = model.evaluate(ds_test)\n",
        "\n",
        "print(f\"Loss: {loss}, Accuracy: {accuracy}\")"
      ],
      "execution_count": 21,
      "outputs": [
        {
          "output_type": "stream",
          "name": "stdout",
          "text": [
            "282/282 [==============================] - 8s 28ms/step - loss: 0.4225 - accuracy: 0.7948\n",
            "Loss: 0.4225277900695801, Accuracy: 0.7948333621025085\n"
          ]
        }
      ]
    },
    {
      "cell_type": "markdown",
      "metadata": {
        "id": "t3K6lkvxoUkH"
      },
      "source": [
        "The model cell structure is exactly the same, other than the replacement of the SimpleRNN layer with a LSTM layer. The change in LSTM proved to provide negligable, if not worse, results in regards to accuracy, despite the time required to train being practically twice that of the simple RNN. This could potentially be explained by the fact that the average length of a tweet isn't too long at all since tweets are usually utilized as a means of expressing a single thought, moment, or idea in a quick and digestible manner. Thus, LSTMs, where their primary advantage over traditional RNNs is propagating dependence throughout an entire sequence regardless of length, most likely didn't produce much of a change in the model since our input sequences, the tweets, aren't very long at all on average."
      ]
    },
    {
      "cell_type": "markdown",
      "metadata": {
        "id": "8O79k2OeIrg3"
      },
      "source": [
        "**Task 2(40 points)**\n",
        "\n",
        "In this task, use any of the pre-trained word embeddings. The Wor2vec embedding link provided with the lecture notes can be useful to get started. Write your own code/function that uses these embeddings and outputs **cosine similarity** and a **dissimilarity** score for any 2 pair of words. The dissimilarity score should be defined by you. You either can have your own idea of a dissimilarity score or refer to literature. In either case clearly describe how this score helps determine the dissmilarity between 2 words."
      ]
    },
    {
      "cell_type": "markdown",
      "metadata": {
        "id": "wg6jFXkNr1CH"
      },
      "source": [
        "The pre-trained word embedding that I will be using is that of Wiki-words-250\n",
        "\n",
        "https://tfhub.dev/google/Wiki-words-500-with-normalization/2"
      ]
    },
    {
      "cell_type": "code",
      "metadata": {
        "id": "brs8_wmaqEnP"
      },
      "source": [
        "# Loading the pre-trained word embedding\n",
        "\n",
        "import tensorflow_hub as hub\n",
        "\n",
        "embed = hub.load(\"https://tfhub.dev/google/Wiki-words-500-with-normalization/2\") # Wiki-words pretrained embedding that was trained on the English Wikipedia Corpus"
      ],
      "execution_count": 71,
      "outputs": []
    },
    {
      "cell_type": "code",
      "metadata": {
        "id": "HI47PUH2sEyr"
      },
      "source": [
        "def printSimilarity():\n",
        "  x = str(input(\"Enter the first word: \"))\n",
        "  y = str(input(\"Enter the second word: \"))\n",
        "  embed_x = embed([x])[0].numpy()\n",
        "  embed_y = embed([y])[0].numpy()\n",
        "\n",
        "  similarity = np.dot(embed_x, embed_y) / (np.linalg.norm(embed_x) * np.linalg.norm(embed_y)) # Cosine similarity is given by (x . y)/(||x|| * ||y||)\n",
        "  print(f\"Cosine similarity between {x} and {y}: {similarity}\")\n",
        "  print(f\"Dissimilarity between {x} and {y}: {1 - similarity}\")\n"
      ],
      "execution_count": 73,
      "outputs": []
    },
    {
      "cell_type": "code",
      "metadata": {
        "colab": {
          "base_uri": "https://localhost:8080/"
        },
        "id": "xieeyr6CxTuo",
        "outputId": "18af45aa-d4d4-4dd7-a8b7-417a0c7c6512"
      },
      "source": [
        "printSimilarity()"
      ],
      "execution_count": 74,
      "outputs": [
        {
          "output_type": "stream",
          "name": "stdout",
          "text": [
            "Enter the first word: dog\n",
            "Enter the second word: cat\n",
            "Cosine similarity between dog and cat: 0.7862539887428284\n",
            "Dissimilarity between dog and cat: 0.21374601125717163\n"
          ]
        }
      ]
    },
    {
      "cell_type": "code",
      "metadata": {
        "colab": {
          "base_uri": "https://localhost:8080/"
        },
        "id": "G0bV6EBexV1X",
        "outputId": "5ee79501-9f8c-4e89-cb82-fc702f4e08de"
      },
      "source": [
        "printSimilarity()"
      ],
      "execution_count": 78,
      "outputs": [
        {
          "output_type": "stream",
          "name": "stdout",
          "text": [
            "Enter the first word: car\n",
            "Enter the second word: vehicle\n",
            "Cosine similarity between car and vehicle: 0.6681612133979797\n",
            "Dissimilarity between car and vehicle: 0.33183878660202026\n"
          ]
        }
      ]
    },
    {
      "cell_type": "code",
      "metadata": {
        "colab": {
          "base_uri": "https://localhost:8080/"
        },
        "id": "BpZzvTiPxWLf",
        "outputId": "d6da2e3d-8188-4ee4-cc0f-18a1cc67d8a8"
      },
      "source": [
        "printSimilarity()"
      ],
      "execution_count": 80,
      "outputs": [
        {
          "output_type": "stream",
          "name": "stdout",
          "text": [
            "Enter the first word: sky\n",
            "Enter the second word: earth\n",
            "Cosine similarity between sky and earth: 0.5910468101501465\n",
            "Dissimilarity between sky and earth: 0.4089531898498535\n"
          ]
        }
      ]
    },
    {
      "cell_type": "markdown",
      "metadata": {
        "id": "YxjvpqBexrCM"
      },
      "source": [
        "I defined the dissimilarity between the first word and second word to simply be $1 - $ cosine similarity. Intuitively speaking, this makes perfect sense seeing how the two terms are techinically opposites of each and can thus be treated as inverses. Especially speaking from a probablistic view, this definition of dissimilarity comes naturally. "
      ]
    }
  ]
}